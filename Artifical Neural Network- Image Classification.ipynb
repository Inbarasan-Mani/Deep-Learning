{
 "cells": [
  {
   "cell_type": "markdown",
   "id": "ccc4b7af",
   "metadata": {},
   "source": [
    "## Importing packages"
   ]
  },
  {
   "cell_type": "code",
   "execution_count": 1,
   "id": "cc815b26",
   "metadata": {},
   "outputs": [],
   "source": [
    "# Importing required packages \n",
    "\n",
    "import tensorflow as tf\n",
    "import numpy as np\n",
    "import pandas as pd\n",
    "import matplotlib.pyplot as plt\n",
    "import seaborn as sns"
   ]
  },
  {
   "cell_type": "code",
   "execution_count": 2,
   "id": "c26abeb4",
   "metadata": {},
   "outputs": [
    {
     "name": "stdout",
     "output_type": "stream",
     "text": [
      "2.6.0\n"
     ]
    }
   ],
   "source": [
    "print(tf.__version__)"
   ]
  },
  {
   "cell_type": "markdown",
   "id": "0f2b216b",
   "metadata": {},
   "source": [
    "## Brief Information above Dataset"
   ]
  },
  {
   "cell_type": "markdown",
   "id": "c257c5e5",
   "metadata": {},
   "source": [
    "#### Context\n",
    "\n",
    "Fashion-MNIST is a dataset of Zalando's article images—consisting of a training set of 60,000 examples and a test set of 10,000 examples. Each example is a 28x28 grayscale image, associated with a label from 10 classes. Zalando intends Fashion-MNIST to serve as a direct drop-in replacement for the original MNIST dataset for benchmarking machine learning algorithms. It shares the same image size and structure of training and testing splits.\n",
    "\n",
    "The original MNIST dataset contains a lot of handwritten digits. Members of the AI/ML/Data Science community love this dataset and use it as a benchmark to validate their algorithms. In fact, MNIST is often the first dataset researchers try. \"If it doesn't work on MNIST, it won't work at all\", they said. \"Well, if it does work on MNIST, it may still fail on others.\"\n",
    "\n",
    "Zalando seeks to replace the original MNIST dataset\n",
    "\n",
    "\n",
    "#### Content\n",
    "\n",
    "Each image is 28 pixels in height and 28 pixels in width, for a total of 784 pixels in total. Each pixel has a single pixel-value associated with it, indicating the lightness or darkness of that pixel, with higher numbers meaning darker. This pixel-value is an integer between 0 and 255. The training and test data sets have 785 columns. The first column consists of the class labels (see above), and represents the article of clothing. The rest of the columns contain the pixel-values of the associated image.\n",
    "\n",
    "To locate a pixel on the image, suppose that we have decomposed x as x = i * 28 + j, where i and j are integers between 0 and 27. The pixel is located on row i and column j of a 28 x 28 matrix.\n",
    "For example, pixel31 indicates the pixel that is in the fourth column from the left, and the second row from the top, as in the ascii-diagram below.\n",
    "\n",
    "\n",
    "#### Labels\n",
    "\n",
    "Each training and test example is assigned to one of the following labels:\n",
    "\n",
    "* 0 T-shirt/top\n",
    "* 1 Trouser\n",
    "* 2 Pullover\n",
    "* 3 Dress\n",
    "* 4 Coat\n",
    "* 5 Sandal\n",
    "* 6 Shirt\n",
    "* 7 Sneaker\n",
    "* 8 Bag\n",
    "* 9 Ankle boot"
   ]
  },
  {
   "cell_type": "markdown",
   "id": "e07ee590",
   "metadata": {},
   "source": [
    "## Data Exploration"
   ]
  },
  {
   "cell_type": "code",
   "execution_count": 3,
   "id": "19d27668",
   "metadata": {},
   "outputs": [],
   "source": [
    "# Data Preprocessing\n",
    "\n",
    "# Importing the datasets from keras library\n",
    "from tensorflow.keras.datasets import fashion_mnist \n",
    "\n",
    "# Loading the datasets\n",
    "(x_train, y_train),(x_test,y_test) = fashion_mnist.load_data()"
   ]
  },
  {
   "cell_type": "code",
   "execution_count": 4,
   "id": "a65926a9",
   "metadata": {},
   "outputs": [
    {
     "name": "stdout",
     "output_type": "stream",
     "text": [
      "Independent variables shape of Train Dataset: (60000, 28, 28)\n"
     ]
    }
   ],
   "source": [
    "print('Independent variables shape of Train Dataset:',x_train.shape)"
   ]
  },
  {
   "cell_type": "code",
   "execution_count": 5,
   "id": "acadcb00",
   "metadata": {},
   "outputs": [
    {
     "name": "stdout",
     "output_type": "stream",
     "text": [
      "Independent variables shape of Test Dataset:  (10000, 28, 28)\n"
     ]
    }
   ],
   "source": [
    "print('Independent variables shape of Test Dataset: ',x_test.shape)\n"
   ]
  },
  {
   "cell_type": "code",
   "execution_count": 6,
   "id": "107a428c",
   "metadata": {},
   "outputs": [
    {
     "name": "stdout",
     "output_type": "stream",
     "text": [
      "Dependent variable shape of Train Dataset:  (60000,)\n"
     ]
    }
   ],
   "source": [
    "print('Dependent variable shape of Train Dataset: ',y_train.shape)"
   ]
  },
  {
   "cell_type": "code",
   "execution_count": 7,
   "id": "bb6b5143",
   "metadata": {},
   "outputs": [
    {
     "name": "stdout",
     "output_type": "stream",
     "text": [
      "Dependent Variable shape of Test dataset:  (10000,)\n"
     ]
    }
   ],
   "source": [
    "print('Dependent Variable shape of Test dataset: ',y_test.shape)"
   ]
  },
  {
   "cell_type": "code",
   "execution_count": 8,
   "id": "f4b603b5",
   "metadata": {
    "scrolled": true
   },
   "outputs": [
    {
     "name": "stdout",
     "output_type": "stream",
     "text": [
      "[[[0 0 0 ... 0 0 0]\n",
      "  [0 0 0 ... 0 0 0]\n",
      "  [0 0 0 ... 0 0 0]\n",
      "  ...\n",
      "  [0 0 0 ... 0 0 0]\n",
      "  [0 0 0 ... 0 0 0]\n",
      "  [0 0 0 ... 0 0 0]]\n",
      "\n",
      " [[0 0 0 ... 0 0 0]\n",
      "  [0 0 0 ... 0 0 0]\n",
      "  [0 0 0 ... 0 0 0]\n",
      "  ...\n",
      "  [0 0 0 ... 0 0 0]\n",
      "  [0 0 0 ... 0 0 0]\n",
      "  [0 0 0 ... 0 0 0]]\n",
      "\n",
      " [[0 0 0 ... 0 0 0]\n",
      "  [0 0 0 ... 0 0 0]\n",
      "  [0 0 0 ... 0 0 0]\n",
      "  ...\n",
      "  [0 0 0 ... 0 0 0]\n",
      "  [0 0 0 ... 0 0 0]\n",
      "  [0 0 0 ... 0 0 0]]\n",
      "\n",
      " ...\n",
      "\n",
      " [[0 0 0 ... 0 0 0]\n",
      "  [0 0 0 ... 0 0 0]\n",
      "  [0 0 0 ... 0 0 0]\n",
      "  ...\n",
      "  [0 0 0 ... 0 0 0]\n",
      "  [0 0 0 ... 0 0 0]\n",
      "  [0 0 0 ... 0 0 0]]\n",
      "\n",
      " [[0 0 0 ... 0 0 0]\n",
      "  [0 0 0 ... 0 0 0]\n",
      "  [0 0 0 ... 0 0 0]\n",
      "  ...\n",
      "  [0 0 0 ... 0 0 0]\n",
      "  [0 0 0 ... 0 0 0]\n",
      "  [0 0 0 ... 0 0 0]]\n",
      "\n",
      " [[0 0 0 ... 0 0 0]\n",
      "  [0 0 0 ... 0 0 0]\n",
      "  [0 0 0 ... 0 0 0]\n",
      "  ...\n",
      "  [0 0 0 ... 0 0 0]\n",
      "  [0 0 0 ... 0 0 0]\n",
      "  [0 0 0 ... 0 0 0]]]\n",
      "\n",
      "\n",
      "Maximum value:  255\n",
      "Minimum value:  0\n"
     ]
    }
   ],
   "source": [
    "print(x_train)\n",
    "\n",
    "''' the values ranges from 1-255 that represent the image, \n",
    "can vary according to the image'''\n",
    "\n",
    "print('\\n\\nMaximum value: ',np.max(x_train))\n",
    "print('Minimum value: ', np.min(x_train))\n",
    "\n",
    "# value will range from 0-255 those are pixel values of that image"
   ]
  },
  {
   "cell_type": "markdown",
   "id": "cf1f5d56",
   "metadata": {},
   "source": [
    "## Descriptive Statistics"
   ]
  },
  {
   "cell_type": "code",
   "execution_count": 9,
   "id": "a5412f30",
   "metadata": {},
   "outputs": [
    {
     "name": "stdout",
     "output_type": "stream",
     "text": [
      "Mean of x_train:  72.94035223214286\n",
      "Standard Deviation of x_train:  90.02118235130519\n",
      "variance of x_train:  8103.81327192694\n",
      "\n",
      "\n",
      "Mean of x_test:  73.14656658163265\n",
      "Standard Deviation of x_test:  89.87325907809718\n",
      "variance of x_test:  8077.202697318776\n",
      "\n",
      "\n",
      " Min: 0  Max: 255\n",
      "\n",
      "\n",
      "Mean of y_train:  4.5\n",
      "Standard Deviation of y_train:  2.8722813232690143\n",
      "variance of y_train:  8.25\n",
      "\n",
      "\n",
      "Mean of y_test:  4.5\n",
      "Standard Deviation of y_test:  2.8722813232690143\n",
      "variance of y_test:  8.25\n",
      "\n",
      "\n",
      " Min: 0  Max: 9\n"
     ]
    }
   ],
   "source": [
    "# Descriptive statistics for x_train Dataset:\n",
    "\n",
    "print(\"Mean of x_train: \",np.mean(x_train))\n",
    "print('Standard Deviation of x_train: ',np.std(x_train))\n",
    "print('variance of x_train: ',np.var(x_train))\n",
    "\n",
    "# Descriptive statistics for x_test Dataset: \n",
    "\n",
    "print(\"\\n\\nMean of x_test: \",np.mean(x_test))\n",
    "print('Standard Deviation of x_test: ',np.std(x_test))\n",
    "print('variance of x_test: ',np.var(x_test ))\n",
    "\n",
    "print(f'\\n\\n Min: {np.min(x_train)}  Max: {np.max(x_train)}') \n",
    "\n",
    "# Descriptive statistics for y_train Dataset:\n",
    "\n",
    "print(\"\\n\\nMean of y_train: \",np.mean(y_train))\n",
    "print('Standard Deviation of y_train: ',np.std(y_train))\n",
    "print('variance of y_train: ',np.var(y_train))\n",
    "\n",
    "# Descriptive statistics for y_test Dataset: \n",
    "\n",
    "print(\"\\n\\nMean of y_test: \",np.mean(y_test))\n",
    "print('Standard Deviation of y_test: ',np.std(y_test))\n",
    "print('variance of y_test: ',np.var(y_test ))\n",
    "\n",
    "print(f'\\n\\n Min: {np.min(y_train)}  Max: {np.max(y_train)}')\n",
    "\n",
    "# Y-Dependent Dataset have the value ranges from 0-9 to show the labels of category\n"
   ]
  },
  {
   "cell_type": "code",
   "execution_count": 10,
   "id": "c6cada1c",
   "metadata": {},
   "outputs": [
    {
     "name": "stdout",
     "output_type": "stream",
     "text": [
      "['0 Top/T-shirt', '1 Trouser', '2 Pullover', '3 Dress', '4 Coat', '5 Sandal', '6 shirt', '7 Sneaker', '8 Bag', '9 Ankle Boot']\n"
     ]
    }
   ],
   "source": [
    "class_names = ['0 Top/T-shirt','1 Trouser','2 Pullover','3 Dress','4 Coat',\n",
    "              '5 Sandal','6 shirt','7 Sneaker','8 Bag','9 Ankle Boot']\n",
    "\n",
    "print(class_names)"
   ]
  },
  {
   "cell_type": "markdown",
   "id": "c7e709b9",
   "metadata": {},
   "source": [
    "## Exploratory Data Analysis"
   ]
  },
  {
   "cell_type": "code",
   "execution_count": 11,
   "id": "5a84f18c",
   "metadata": {
    "scrolled": true
   },
   "outputs": [
    {
     "data": {
      "image/png": "[encoded data removed]",
      "text/plain": [
       "<Figure size 432x288 with 2 Axes>"
      ]
     },
     "metadata": {
      "needs_background": "light"
     },
     "output_type": "display_data"
    }
   ],
   "source": [
    "\n",
    "plt.figure()\n",
    "plt.imshow(x_train[1])\n",
    "plt.colorbar();"
   ]
  },
  {
   "cell_type": "code",
   "execution_count": 12,
   "id": "3d769d44",
   "metadata": {},
   "outputs": [
    {
     "data": {
      "text/plain": [
       "0"
      ]
     },
     "execution_count": 12,
     "metadata": {},
     "output_type": "execute_result"
    }
   ],
   "source": [
    "# to confirm the independent and dependent values are to be in right way\n",
    "y_train[1]"
   ]
  },
  {
   "cell_type": "code",
   "execution_count": 13,
   "id": "8e10254f",
   "metadata": {},
   "outputs": [
    {
     "data": {
      "text/plain": [
       "<matplotlib.colorbar.Colorbar at 0x22c8be970a0>"
      ]
     },
     "execution_count": 13,
     "metadata": {},
     "output_type": "execute_result"
    },
    {
     "data": {
      "image/png": "[encoded data removed]",
      "text/plain": [
       "<Figure size 432x288 with 2 Axes>"
      ]
     },
     "metadata": {
      "needs_background": "light"
     },
     "output_type": "display_data"
    }
   ],
   "source": [
    "plt.imshow(x_train[100])\n",
    "plt.colorbar()"
   ]
  },
  {
   "cell_type": "code",
   "execution_count": 14,
   "id": "cc69638c",
   "metadata": {},
   "outputs": [
    {
     "data": {
      "text/plain": [
       "8"
      ]
     },
     "execution_count": 14,
     "metadata": {},
     "output_type": "execute_result"
    }
   ],
   "source": [
    "y_train[100]"
   ]
  },
  {
   "cell_type": "markdown",
   "id": "a5a7b311",
   "metadata": {},
   "source": [
    "### Normalising the Dataset"
   ]
  },
  {
   "cell_type": "code",
   "execution_count": 15,
   "id": "e08a96be",
   "metadata": {},
   "outputs": [],
   "source": [
    "# Normalising the Dataset -  helps neuron's to learn faster\n",
    "\n",
    "x_train = x_train/255.0\n",
    "x_test = x_test/255.0\n",
    "\n",
    "# the value of the image ranges from 0-255 hence we divide it with 255.0 =\n",
    "# so that the value will be ranged from 0-1 (this procedure is extesively called as 'Normalization')"
   ]
  },
  {
   "cell_type": "code",
   "execution_count": 16,
   "id": "12fc65b9",
   "metadata": {},
   "outputs": [
    {
     "data": {
      "image/png": "[encoded data removed]",
      "text/plain": [
       "<Figure size 432x288 with 2 Axes>"
      ]
     },
     "metadata": {
      "needs_background": "light"
     },
     "output_type": "display_data"
    }
   ],
   "source": [
    "plt.imshow(x_train[1])\n",
    "plt.colorbar();"
   ]
  },
  {
   "cell_type": "markdown",
   "id": "76db2c68",
   "metadata": {},
   "source": [
    "### Flattening of Dataset"
   ]
  },
  {
   "cell_type": "code",
   "execution_count": 17,
   "id": "05cee345",
   "metadata": {},
   "outputs": [
    {
     "data": {
      "text/plain": [
       "((60000, 28, 28), (10000, 28, 28))"
      ]
     },
     "execution_count": 17,
     "metadata": {},
     "output_type": "execute_result"
    }
   ],
   "source": [
    "# Flattening the Dataset - converting 60000 2-D array into 60000 1-D array\n",
    "x_train.shape, x_test.shape\n",
    "\n",
    "# here the 60000 represents the label, whereas 28 * 28 is the size of image,\n",
    "# by the flattening procedure the 2-D image of 28*28 is converted to 1-D vector\n",
    "\n",
    "# Artifical Neural Network will adapt easily the data in that format. \n"
   ]
  },
  {
   "cell_type": "code",
   "execution_count": 18,
   "id": "6a0fe9d7",
   "metadata": {},
   "outputs": [],
   "source": [
    "x_train = x_train.reshape(-1, 28*28) #-1 - means we are inculding all the values in that dataset\n",
    "# 28*28 is converted to single dimension\n",
    "\n",
    "x_test = x_test.reshape(-1, 28*28)"
   ]
  },
  {
   "cell_type": "code",
   "execution_count": 19,
   "id": "94810a9a",
   "metadata": {},
   "outputs": [
    {
     "data": {
      "text/plain": [
       "((60000, 784), (10000, 784))"
      ]
     },
     "execution_count": 19,
     "metadata": {},
     "output_type": "execute_result"
    }
   ],
   "source": [
    "x_train.shape, x_test.shape\n",
    "\n",
    "# 784 is the result of 28*28 where the two dimensional value is converted to single value for faster and easy adaptation of neuron's to get output faster"
   ]
  },
  {
   "cell_type": "markdown",
   "id": "4cd26081",
   "metadata": {},
   "source": [
    "## Building the model"
   ]
  },
  {
   "cell_type": "code",
   "execution_count": 20,
   "id": "b38ebecc",
   "metadata": {},
   "outputs": [],
   "source": [
    "# to build a model first we have to define a object\n",
    "\n",
    "model = tf.keras.models.Sequential()\n",
    "\n",
    "# model is defined with Sequential class to have fully connected layers of neuron to the model\n",
    "'''\n",
    "Adding first fully connected hidden Layer\n",
    "\n",
    "1) Units (no.of neurons) = 128\n",
    "2) Activation function = reLU\n",
    "3) Input Shape = 784\n",
    "\n",
    "'''\n",
    "\n",
    "model.add(tf.keras.layers.Dense(units = 128, \n",
    "                                activation = 'relu', \n",
    "                                input_shape = (784,)))\n",
    "\n",
    "# fully connected layer is formed by the above sequence of code\n"
   ]
  },
  {
   "cell_type": "code",
   "execution_count": 21,
   "id": "cce851cb",
   "metadata": {},
   "outputs": [],
   "source": [
    "# adding the second layer with dropout - Dropout is an regularization technique that can leave the randomely selected neurons for forward or backward propagation\n",
    "# dropout can also be usefull to overcome the overfitting problem of the model\n",
    "\n",
    "model.add(tf.keras.layers.Dropout(0.3))\n",
    "\n",
    "# in general we use 20-50 percent inside the Dropout, here 30% of neuron's have neglected\n"
   ]
  },
  {
   "cell_type": "code",
   "execution_count": 22,
   "id": "e807f619",
   "metadata": {},
   "outputs": [],
   "source": [
    "# Adding the Output Layer\n",
    "\n",
    "'''\n",
    "\n",
    "1) units (no. of neurons) = 10  (becoz we have 10 classes in our output as labels)\n",
    "2) activation function = softmax function  (multiple classes in output hence we are using this)\n",
    "if it was binary we'll use sigmoid function\n",
    "\n",
    "'''\n",
    "\n",
    "model.add(tf.keras.layers.Dense(units = 10, \n",
    "                               activation = 'softmax'))"
   ]
  },
  {
   "cell_type": "markdown",
   "id": "f59cc89f",
   "metadata": {},
   "source": [
    "## Training the model"
   ]
  },
  {
   "cell_type": "code",
   "execution_count": 23,
   "id": "5ee2fb7f",
   "metadata": {},
   "outputs": [],
   "source": [
    "# Compiling the model\n",
    "\n",
    "'''\n",
    "1) optimizer - to minimize the loss function (ADAM)\n",
    "2) loss function - acts as guide to optimizer (sparse_categorical_crossentropy)\n",
    "3) metrics - sparse_categorical_accuracy (for multiple values for output we've use this metrics, if it was binary we use 'Accuracy')\n",
    " \n",
    "'''\n",
    "model.compile(optimizer = 'adam',\n",
    "             loss = 'sparse_categorical_crossentropy',\n",
    "             metrics = 'sparse_categorical_accuracy')\n"
   ]
  },
  {
   "cell_type": "code",
   "execution_count": 24,
   "id": "8e576405",
   "metadata": {},
   "outputs": [
    {
     "name": "stdout",
     "output_type": "stream",
     "text": [
      "Model: \"sequential\"\n",
      "_________________________________________________________________\n",
      "Layer (type)                 Output Shape              Param #   \n",
      "=================================================================\n",
      "dense (Dense)                (None, 128)               100480    \n",
      "_________________________________________________________________\n",
      "dropout (Dropout)            (None, 128)               0         \n",
      "_________________________________________________________________\n",
      "dense_1 (Dense)              (None, 10)                1290      \n",
      "=================================================================\n",
      "Total params: 101,770\n",
      "Trainable params: 101,770\n",
      "Non-trainable params: 0\n",
      "_________________________________________________________________\n"
     ]
    }
   ],
   "source": [
    "model.summary()"
   ]
  },
  {
   "cell_type": "code",
   "execution_count": 25,
   "id": "ec99e9cb",
   "metadata": {},
   "outputs": [
    {
     "name": "stdout",
     "output_type": "stream",
     "text": [
      "Epoch 1/100\n",
      "1875/1875 - 3s - loss: 0.5481 - sparse_categorical_accuracy: 0.8057\n",
      "Epoch 2/100\n",
      "1875/1875 - 2s - loss: 0.4213 - sparse_categorical_accuracy: 0.8470\n",
      "Epoch 3/100\n",
      "1875/1875 - 3s - loss: 0.3867 - sparse_categorical_accuracy: 0.8590\n",
      "Epoch 4/100\n",
      "1875/1875 - 3s - loss: 0.3635 - sparse_categorical_accuracy: 0.8672\n",
      "Epoch 5/100\n",
      "1875/1875 - 2s - loss: 0.3497 - sparse_categorical_accuracy: 0.8702\n",
      "Epoch 6/100\n",
      "1875/1875 - 3s - loss: 0.3389 - sparse_categorical_accuracy: 0.8748\n",
      "Epoch 7/100\n",
      "1875/1875 - 3s - loss: 0.3272 - sparse_categorical_accuracy: 0.8788\n",
      "Epoch 8/100\n",
      "1875/1875 - 3s - loss: 0.3210 - sparse_categorical_accuracy: 0.8818\n",
      "Epoch 9/100\n",
      "1875/1875 - 3s - loss: 0.3121 - sparse_categorical_accuracy: 0.8848\n",
      "Epoch 10/100\n",
      "1875/1875 - 2s - loss: 0.3059 - sparse_categorical_accuracy: 0.8852\n",
      "Epoch 11/100\n",
      "1875/1875 - 3s - loss: 0.3002 - sparse_categorical_accuracy: 0.8889\n",
      "Epoch 12/100\n",
      "1875/1875 - 3s - loss: 0.2930 - sparse_categorical_accuracy: 0.8897\n",
      "Epoch 13/100\n",
      "1875/1875 - 3s - loss: 0.2887 - sparse_categorical_accuracy: 0.8932\n",
      "Epoch 14/100\n",
      "1875/1875 - 3s - loss: 0.2844 - sparse_categorical_accuracy: 0.8931\n",
      "Epoch 15/100\n",
      "1875/1875 - 3s - loss: 0.2815 - sparse_categorical_accuracy: 0.8945\n",
      "Epoch 16/100\n",
      "1875/1875 - 3s - loss: 0.2767 - sparse_categorical_accuracy: 0.8959\n",
      "Epoch 17/100\n",
      "1875/1875 - 3s - loss: 0.2767 - sparse_categorical_accuracy: 0.8979\n",
      "Epoch 18/100\n",
      "1875/1875 - 3s - loss: 0.2672 - sparse_categorical_accuracy: 0.8998\n",
      "Epoch 19/100\n",
      "1875/1875 - 3s - loss: 0.2644 - sparse_categorical_accuracy: 0.9003\n",
      "Epoch 20/100\n",
      "1875/1875 - 3s - loss: 0.2600 - sparse_categorical_accuracy: 0.9028\n",
      "Epoch 21/100\n",
      "1875/1875 - 2s - loss: 0.2573 - sparse_categorical_accuracy: 0.9029\n",
      "Epoch 22/100\n",
      "1875/1875 - 2s - loss: 0.2559 - sparse_categorical_accuracy: 0.9029\n",
      "Epoch 23/100\n",
      "1875/1875 - 2s - loss: 0.2538 - sparse_categorical_accuracy: 0.9034\n",
      "Epoch 24/100\n",
      "1875/1875 - 3s - loss: 0.2529 - sparse_categorical_accuracy: 0.9053\n",
      "Epoch 25/100\n",
      "1875/1875 - 2s - loss: 0.2489 - sparse_categorical_accuracy: 0.9066\n",
      "Epoch 26/100\n",
      "1875/1875 - 2s - loss: 0.2445 - sparse_categorical_accuracy: 0.9087\n",
      "Epoch 27/100\n",
      "1875/1875 - 2s - loss: 0.2410 - sparse_categorical_accuracy: 0.9084\n",
      "Epoch 28/100\n",
      "1875/1875 - 3s - loss: 0.2424 - sparse_categorical_accuracy: 0.9090\n",
      "Epoch 29/100\n",
      "1875/1875 - 2s - loss: 0.2362 - sparse_categorical_accuracy: 0.9097\n",
      "Epoch 30/100\n",
      "1875/1875 - 3s - loss: 0.2373 - sparse_categorical_accuracy: 0.9093\n",
      "Epoch 31/100\n",
      "1875/1875 - 3s - loss: 0.2327 - sparse_categorical_accuracy: 0.9114\n",
      "Epoch 32/100\n",
      "1875/1875 - 3s - loss: 0.2327 - sparse_categorical_accuracy: 0.9119\n",
      "Epoch 33/100\n",
      "1875/1875 - 2s - loss: 0.2332 - sparse_categorical_accuracy: 0.9117\n",
      "Epoch 34/100\n",
      "1875/1875 - 2s - loss: 0.2255 - sparse_categorical_accuracy: 0.9141\n",
      "Epoch 35/100\n",
      "1875/1875 - 2s - loss: 0.2281 - sparse_categorical_accuracy: 0.9153\n",
      "Epoch 36/100\n",
      "1875/1875 - 2s - loss: 0.2260 - sparse_categorical_accuracy: 0.9155\n",
      "Epoch 37/100\n",
      "1875/1875 - 2s - loss: 0.2231 - sparse_categorical_accuracy: 0.9136\n",
      "Epoch 38/100\n",
      "1875/1875 - 2s - loss: 0.2203 - sparse_categorical_accuracy: 0.9160\n",
      "Epoch 39/100\n",
      "1875/1875 - 2s - loss: 0.2188 - sparse_categorical_accuracy: 0.9160\n",
      "Epoch 40/100\n",
      "1875/1875 - 2s - loss: 0.2185 - sparse_categorical_accuracy: 0.9165\n",
      "Epoch 41/100\n",
      "1875/1875 - 3s - loss: 0.2168 - sparse_categorical_accuracy: 0.9174\n",
      "Epoch 42/100\n",
      "1875/1875 - 3s - loss: 0.2164 - sparse_categorical_accuracy: 0.9181\n",
      "Epoch 43/100\n",
      "1875/1875 - 2s - loss: 0.2135 - sparse_categorical_accuracy: 0.9189\n",
      "Epoch 44/100\n",
      "1875/1875 - 2s - loss: 0.2121 - sparse_categorical_accuracy: 0.9176\n",
      "Epoch 45/100\n",
      "1875/1875 - 3s - loss: 0.2116 - sparse_categorical_accuracy: 0.9182\n",
      "Epoch 46/100\n",
      "1875/1875 - 3s - loss: 0.2129 - sparse_categorical_accuracy: 0.9192\n",
      "Epoch 47/100\n",
      "1875/1875 - 3s - loss: 0.2076 - sparse_categorical_accuracy: 0.9220\n",
      "Epoch 48/100\n",
      "1875/1875 - 3s - loss: 0.2045 - sparse_categorical_accuracy: 0.9221\n",
      "Epoch 49/100\n",
      "1875/1875 - 3s - loss: 0.2044 - sparse_categorical_accuracy: 0.9214\n",
      "Epoch 50/100\n",
      "1875/1875 - 2s - loss: 0.2041 - sparse_categorical_accuracy: 0.9214\n",
      "Epoch 51/100\n",
      "1875/1875 - 3s - loss: 0.2037 - sparse_categorical_accuracy: 0.9228\n",
      "Epoch 52/100\n",
      "1875/1875 - 2s - loss: 0.1996 - sparse_categorical_accuracy: 0.9226\n",
      "Epoch 53/100\n",
      "1875/1875 - 3s - loss: 0.2032 - sparse_categorical_accuracy: 0.9223\n",
      "Epoch 54/100\n",
      "1875/1875 - 2s - loss: 0.1996 - sparse_categorical_accuracy: 0.9234\n",
      "Epoch 55/100\n",
      "1875/1875 - 3s - loss: 0.1975 - sparse_categorical_accuracy: 0.9240\n",
      "Epoch 56/100\n",
      "1875/1875 - 3s - loss: 0.1987 - sparse_categorical_accuracy: 0.9249\n",
      "Epoch 57/100\n",
      "1875/1875 - 3s - loss: 0.1986 - sparse_categorical_accuracy: 0.9245\n",
      "Epoch 58/100\n",
      "1875/1875 - 3s - loss: 0.1946 - sparse_categorical_accuracy: 0.9254\n",
      "Epoch 59/100\n",
      "1875/1875 - 2s - loss: 0.1945 - sparse_categorical_accuracy: 0.9251\n",
      "Epoch 60/100\n",
      "1875/1875 - 3s - loss: 0.1929 - sparse_categorical_accuracy: 0.9255\n",
      "Epoch 61/100\n",
      "1875/1875 - 3s - loss: 0.1923 - sparse_categorical_accuracy: 0.9263\n",
      "Epoch 62/100\n",
      "1875/1875 - 3s - loss: 0.1913 - sparse_categorical_accuracy: 0.9267\n",
      "Epoch 63/100\n",
      "1875/1875 - 3s - loss: 0.1891 - sparse_categorical_accuracy: 0.9277\n",
      "Epoch 64/100\n",
      "1875/1875 - 2s - loss: 0.1882 - sparse_categorical_accuracy: 0.9285\n",
      "Epoch 65/100\n",
      "1875/1875 - 2s - loss: 0.1905 - sparse_categorical_accuracy: 0.9263\n",
      "Epoch 66/100\n",
      "1875/1875 - 3s - loss: 0.1878 - sparse_categorical_accuracy: 0.9273\n",
      "Epoch 67/100\n",
      "1875/1875 - 3s - loss: 0.1865 - sparse_categorical_accuracy: 0.9273\n",
      "Epoch 68/100\n",
      "1875/1875 - 2s - loss: 0.1871 - sparse_categorical_accuracy: 0.9282\n",
      "Epoch 69/100\n",
      "1875/1875 - 2s - loss: 0.1845 - sparse_categorical_accuracy: 0.9300\n",
      "Epoch 70/100\n",
      "1875/1875 - 2s - loss: 0.1838 - sparse_categorical_accuracy: 0.9290\n",
      "Epoch 71/100\n",
      "1875/1875 - 3s - loss: 0.1833 - sparse_categorical_accuracy: 0.9290\n",
      "Epoch 72/100\n",
      "1875/1875 - 3s - loss: 0.1807 - sparse_categorical_accuracy: 0.9297\n",
      "Epoch 73/100\n",
      "1875/1875 - 2s - loss: 0.1797 - sparse_categorical_accuracy: 0.9309\n",
      "Epoch 74/100\n",
      "1875/1875 - 3s - loss: 0.1811 - sparse_categorical_accuracy: 0.9312\n",
      "Epoch 75/100\n",
      "1875/1875 - 3s - loss: 0.1800 - sparse_categorical_accuracy: 0.9313\n",
      "Epoch 76/100\n",
      "1875/1875 - 2s - loss: 0.1788 - sparse_categorical_accuracy: 0.9316\n",
      "Epoch 77/100\n",
      "1875/1875 - 3s - loss: 0.1803 - sparse_categorical_accuracy: 0.9299\n",
      "Epoch 78/100\n",
      "1875/1875 - 3s - loss: 0.1759 - sparse_categorical_accuracy: 0.9318\n",
      "Epoch 79/100\n",
      "1875/1875 - 3s - loss: 0.1770 - sparse_categorical_accuracy: 0.9317\n",
      "Epoch 80/100\n",
      "1875/1875 - 3s - loss: 0.1734 - sparse_categorical_accuracy: 0.9336\n",
      "Epoch 81/100\n",
      "1875/1875 - 3s - loss: 0.1740 - sparse_categorical_accuracy: 0.9333\n",
      "Epoch 82/100\n",
      "1875/1875 - 3s - loss: 0.1756 - sparse_categorical_accuracy: 0.9325\n",
      "Epoch 83/100\n",
      "1875/1875 - 2s - loss: 0.1734 - sparse_categorical_accuracy: 0.9329\n",
      "Epoch 84/100\n",
      "1875/1875 - 2s - loss: 0.1713 - sparse_categorical_accuracy: 0.9348\n",
      "Epoch 85/100\n",
      "1875/1875 - 3s - loss: 0.1727 - sparse_categorical_accuracy: 0.9322\n",
      "Epoch 86/100\n",
      "1875/1875 - 3s - loss: 0.1681 - sparse_categorical_accuracy: 0.9358\n",
      "Epoch 87/100\n",
      "1875/1875 - 3s - loss: 0.1709 - sparse_categorical_accuracy: 0.9331\n",
      "Epoch 88/100\n",
      "1875/1875 - 3s - loss: 0.1683 - sparse_categorical_accuracy: 0.9343\n",
      "Epoch 89/100\n",
      "1875/1875 - 2s - loss: 0.1698 - sparse_categorical_accuracy: 0.9350\n",
      "Epoch 90/100\n",
      "1875/1875 - 2s - loss: 0.1635 - sparse_categorical_accuracy: 0.9378\n",
      "Epoch 91/100\n",
      "1875/1875 - 2s - loss: 0.1669 - sparse_categorical_accuracy: 0.9358\n",
      "Epoch 92/100\n",
      "1875/1875 - 2s - loss: 0.1690 - sparse_categorical_accuracy: 0.9347\n",
      "Epoch 93/100\n",
      "1875/1875 - 3s - loss: 0.1667 - sparse_categorical_accuracy: 0.9366\n",
      "Epoch 94/100\n",
      "1875/1875 - 3s - loss: 0.1655 - sparse_categorical_accuracy: 0.9353\n",
      "Epoch 95/100\n",
      "1875/1875 - 3s - loss: 0.1691 - sparse_categorical_accuracy: 0.9345\n",
      "Epoch 96/100\n",
      "1875/1875 - 3s - loss: 0.1650 - sparse_categorical_accuracy: 0.9373\n",
      "Epoch 97/100\n",
      "1875/1875 - 3s - loss: 0.1643 - sparse_categorical_accuracy: 0.9357\n",
      "Epoch 98/100\n",
      "1875/1875 - 3s - loss: 0.1649 - sparse_categorical_accuracy: 0.9369\n",
      "Epoch 99/100\n",
      "1875/1875 - 3s - loss: 0.1649 - sparse_categorical_accuracy: 0.9360\n",
      "Epoch 100/100\n",
      "1875/1875 - 2s - loss: 0.1628 - sparse_categorical_accuracy: 0.9364\n"
     ]
    },
    {
     "data": {
      "text/plain": [
       "<keras.callbacks.History at 0x22c88c092b0>"
      ]
     },
     "execution_count": 25,
     "metadata": {},
     "output_type": "execute_result"
    }
   ],
   "source": [
    "# Training the model\n",
    "model.fit(x_train, y_train, epochs = 100, verbose = 2)"
   ]
  },
  {
   "cell_type": "markdown",
   "id": "64f5619d",
   "metadata": {},
   "source": [
    "## Model Evaluation and Prediction"
   ]
  },
  {
   "cell_type": "code",
   "execution_count": 26,
   "id": "755ce8c1",
   "metadata": {},
   "outputs": [
    {
     "name": "stdout",
     "output_type": "stream",
     "text": [
      "313/313 [==============================] - 0s 1ms/step - loss: 0.4787 - sparse_categorical_accuracy: 0.8899\n"
     ]
    }
   ],
   "source": [
    "# Model Evaluation\n",
    "\n",
    "test_loss, test_accuracy = model.evaluate(x_test, y_test)"
   ]
  },
  {
   "cell_type": "code",
   "execution_count": 27,
   "id": "4ae48322",
   "metadata": {},
   "outputs": [
    {
     "name": "stdout",
     "output_type": "stream",
     "text": [
      "Test Accuracy: 0.8899000287055969   Test_loss: 0.4786747992038727\n"
     ]
    }
   ],
   "source": [
    "print(f\"Test Accuracy: {test_accuracy}   Test_loss: {test_loss}\")"
   ]
  },
  {
   "cell_type": "code",
   "execution_count": null,
   "id": "f537820f",
   "metadata": {
    "scrolled": true
   },
   "outputs": [],
   "source": [
    "# Model Prediction\n",
    "\n",
    "y_pred = model.predict(x_test)\n",
    "y_pred = np.round(y_pred).astype(int)"
   ]
  },
  {
   "cell_type": "code",
   "execution_count": null,
   "id": "4d510c75",
   "metadata": {},
   "outputs": [],
   "source": [
    "y_pred[1] # predicted output (y^)"
   ]
  },
  {
   "cell_type": "code",
   "execution_count": null,
   "id": "bc127d31",
   "metadata": {},
   "outputs": [],
   "source": [
    "y_test[1] # actual output (y)"
   ]
  },
  {
   "cell_type": "code",
   "execution_count": null,
   "id": "cb7e78f0",
   "metadata": {},
   "outputs": [],
   "source": [
    "class_names "
   ]
  },
  {
   "cell_type": "code",
   "execution_count": null,
   "id": "70d64692",
   "metadata": {},
   "outputs": [],
   "source": [
    "y_test.shape"
   ]
  },
  {
   "cell_type": "code",
   "execution_count": null,
   "id": "e41d30f6",
   "metadata": {},
   "outputs": [],
   "source": [
    "y_pred[1]"
   ]
  },
  {
   "cell_type": "code",
   "execution_count": null,
   "id": "0290a73d",
   "metadata": {},
   "outputs": [],
   "source": []
  }
 ],
 "metadata": {
  "kernelspec": {
   "display_name": "Python 3",
   "language": "python",
   "name": "python3"
  },
  "language_info": {
   "codemirror_mode": {
    "name": "ipython",
    "version": 3
   },
   "file_extension": ".py",
   "mimetype": "text/x-python",
   "name": "python",
   "nbconvert_exporter": "python",
   "pygments_lexer": "ipython3",
   "version": "3.8.8"
  }
 },
 "nbformat": 4,
 "nbformat_minor": 5
}
