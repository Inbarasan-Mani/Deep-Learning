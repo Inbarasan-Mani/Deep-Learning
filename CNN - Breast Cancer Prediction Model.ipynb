{
 "cells": [
  {
   "cell_type": "code",
   "execution_count": 1,
   "id": "974b49c3",
   "metadata": {},
   "outputs": [],
   "source": [
    "import tensorflow as tf\n",
    "import numpy as np\n",
    "import pandas as pd\n",
    "import matplotlib.pyplot as plt\n",
    "import seaborn as sns\n"
   ]
  },
  {
   "cell_type": "code",
   "execution_count": 2,
   "id": "624a0884",
   "metadata": {},
   "outputs": [],
   "source": [
    "# Importing the dataset\n",
    "\n",
    "from sklearn import datasets, metrics\n",
    "data = datasets.load_breast_cancer()\n"
   ]
  },
  {
   "cell_type": "code",
   "execution_count": 3,
   "id": "2f8133c6",
   "metadata": {},
   "outputs": [
    {
     "name": "stdout",
     "output_type": "stream",
     "text": [
      ".. _breast_cancer_dataset:\n",
      "\n",
      "Breast cancer wisconsin (diagnostic) dataset\n",
      "--------------------------------------------\n",
      "\n",
      "**Data Set Characteristics:**\n",
      "\n",
      "    :Number of Instances: 569\n",
      "\n",
      "    :Number of Attributes: 30 numeric, predictive attributes and the class\n",
      "\n",
      "    :Attribute Information:\n",
      "        - radius (mean of distances from center to points on the perimeter)\n",
      "        - texture (standard deviation of gray-scale values)\n",
      "        - perimeter\n",
      "        - area\n",
      "        - smoothness (local variation in radius lengths)\n",
      "        - compactness (perimeter^2 / area - 1.0)\n",
      "        - concavity (severity of concave portions of the contour)\n",
      "        - concave points (number of concave portions of the contour)\n",
      "        - symmetry\n",
      "        - fractal dimension (\"coastline approximation\" - 1)\n",
      "\n",
      "        The mean, standard error, and \"worst\" or largest (mean of the three\n",
      "        worst/largest values) of these features were computed for each image,\n",
      "        resulting in 30 features.  For instance, field 0 is Mean Radius, field\n",
      "        10 is Radius SE, field 20 is Worst Radius.\n",
      "\n",
      "        - class:\n",
      "                - WDBC-Malignant\n",
      "                - WDBC-Benign\n",
      "\n",
      "    :Summary Statistics:\n",
      "\n",
      "    ===================================== ====== ======\n",
      "                                           Min    Max\n",
      "    ===================================== ====== ======\n",
      "    radius (mean):                        6.981  28.11\n",
      "    texture (mean):                       9.71   39.28\n",
      "    perimeter (mean):                     43.79  188.5\n",
      "    area (mean):                          143.5  2501.0\n",
      "    smoothness (mean):                    0.053  0.163\n",
      "    compactness (mean):                   0.019  0.345\n",
      "    concavity (mean):                     0.0    0.427\n",
      "    concave points (mean):                0.0    0.201\n",
      "    symmetry (mean):                      0.106  0.304\n",
      "    fractal dimension (mean):             0.05   0.097\n",
      "    radius (standard error):              0.112  2.873\n",
      "    texture (standard error):             0.36   4.885\n",
      "    perimeter (standard error):           0.757  21.98\n",
      "    area (standard error):                6.802  542.2\n",
      "    smoothness (standard error):          0.002  0.031\n",
      "    compactness (standard error):         0.002  0.135\n",
      "    concavity (standard error):           0.0    0.396\n",
      "    concave points (standard error):      0.0    0.053\n",
      "    symmetry (standard error):            0.008  0.079\n",
      "    fractal dimension (standard error):   0.001  0.03\n",
      "    radius (worst):                       7.93   36.04\n",
      "    texture (worst):                      12.02  49.54\n",
      "    perimeter (worst):                    50.41  251.2\n",
      "    area (worst):                         185.2  4254.0\n",
      "    smoothness (worst):                   0.071  0.223\n",
      "    compactness (worst):                  0.027  1.058\n",
      "    concavity (worst):                    0.0    1.252\n",
      "    concave points (worst):               0.0    0.291\n",
      "    symmetry (worst):                     0.156  0.664\n",
      "    fractal dimension (worst):            0.055  0.208\n",
      "    ===================================== ====== ======\n",
      "\n",
      "    :Missing Attribute Values: None\n",
      "\n",
      "    :Class Distribution: 212 - Malignant, 357 - Benign\n",
      "\n",
      "    :Creator:  Dr. William H. Wolberg, W. Nick Street, Olvi L. Mangasarian\n",
      "\n",
      "    :Donor: Nick Street\n",
      "\n",
      "    :Date: November, 1995\n",
      "\n",
      "This is a copy of UCI ML Breast Cancer Wisconsin (Diagnostic) datasets.\n",
      "https://goo.gl/U2Uwz2\n",
      "\n",
      "Features are computed from a digitized image of a fine needle\n",
      "aspirate (FNA) of a breast mass.  They describe\n",
      "characteristics of the cell nuclei present in the image.\n",
      "\n",
      "Separating plane described above was obtained using\n",
      "Multisurface Method-Tree (MSM-T) [K. P. Bennett, \"Decision Tree\n",
      "Construction Via Linear Programming.\" Proceedings of the 4th\n",
      "Midwest Artificial Intelligence and Cognitive Science Society,\n",
      "pp. 97-101, 1992], a classification method which uses linear\n",
      "programming to construct a decision tree.  Relevant features\n",
      "were selected using an exhaustive search in the space of 1-4\n",
      "features and 1-3 separating planes.\n",
      "\n",
      "The actual linear program used to obtain the separating plane\n",
      "in the 3-dimensional space is that described in:\n",
      "[K. P. Bennett and O. L. Mangasarian: \"Robust Linear\n",
      "Programming Discrimination of Two Linearly Inseparable Sets\",\n",
      "Optimization Methods and Software 1, 1992, 23-34].\n",
      "\n",
      "This database is also available through the UW CS ftp server:\n",
      "\n",
      "ftp ftp.cs.wisc.edu\n",
      "cd math-prog/cpo-dataset/machine-learn/WDBC/\n",
      "\n",
      ".. topic:: References\n",
      "\n",
      "   - W.N. Street, W.H. Wolberg and O.L. Mangasarian. Nuclear feature extraction \n",
      "     for breast tumor diagnosis. IS&T/SPIE 1993 International Symposium on \n",
      "     Electronic Imaging: Science and Technology, volume 1905, pages 861-870,\n",
      "     San Jose, CA, 1993.\n",
      "   - O.L. Mangasarian, W.N. Street and W.H. Wolberg. Breast cancer diagnosis and \n",
      "     prognosis via linear programming. Operations Research, 43(4), pages 570-577, \n",
      "     July-August 1995.\n",
      "   - W.H. Wolberg, W.N. Street, and O.L. Mangasarian. Machine learning techniques\n",
      "     to diagnose breast cancer from fine-needle aspirates. Cancer Letters 77 (1994) \n",
      "     163-171.\n"
     ]
    }
   ],
   "source": [
    "print(data.DESCR)"
   ]
  },
  {
   "cell_type": "code",
   "execution_count": 4,
   "id": "29e1569d",
   "metadata": {},
   "outputs": [
    {
     "data": {
      "text/html": [
       "<div>\n",
       "<style scoped>\n",
       "    .dataframe tbody tr th:only-of-type {\n",
       "        vertical-align: middle;\n",
       "    }\n",
       "\n",
       "    .dataframe tbody tr th {\n",
       "        vertical-align: top;\n",
       "    }\n",
       "\n",
       "    .dataframe thead th {\n",
       "        text-align: right;\n",
       "    }\n",
       "</style>\n",
       "<table border=\"1\" class=\"dataframe\">\n",
       "  <thead>\n",
       "    <tr style=\"text-align: right;\">\n",
       "      <th></th>\n",
       "      <th>mean radius</th>\n",
       "      <th>mean texture</th>\n",
       "      <th>mean perimeter</th>\n",
       "      <th>mean area</th>\n",
       "      <th>mean smoothness</th>\n",
       "      <th>mean compactness</th>\n",
       "      <th>mean concavity</th>\n",
       "      <th>mean concave points</th>\n",
       "      <th>mean symmetry</th>\n",
       "      <th>mean fractal dimension</th>\n",
       "      <th>...</th>\n",
       "      <th>worst radius</th>\n",
       "      <th>worst texture</th>\n",
       "      <th>worst perimeter</th>\n",
       "      <th>worst area</th>\n",
       "      <th>worst smoothness</th>\n",
       "      <th>worst compactness</th>\n",
       "      <th>worst concavity</th>\n",
       "      <th>worst concave points</th>\n",
       "      <th>worst symmetry</th>\n",
       "      <th>worst fractal dimension</th>\n",
       "    </tr>\n",
       "  </thead>\n",
       "  <tbody>\n",
       "    <tr>\n",
       "      <th>0</th>\n",
       "      <td>17.99</td>\n",
       "      <td>10.38</td>\n",
       "      <td>122.80</td>\n",
       "      <td>1001.0</td>\n",
       "      <td>0.11840</td>\n",
       "      <td>0.27760</td>\n",
       "      <td>0.3001</td>\n",
       "      <td>0.14710</td>\n",
       "      <td>0.2419</td>\n",
       "      <td>0.07871</td>\n",
       "      <td>...</td>\n",
       "      <td>25.38</td>\n",
       "      <td>17.33</td>\n",
       "      <td>184.60</td>\n",
       "      <td>2019.0</td>\n",
       "      <td>0.1622</td>\n",
       "      <td>0.6656</td>\n",
       "      <td>0.7119</td>\n",
       "      <td>0.2654</td>\n",
       "      <td>0.4601</td>\n",
       "      <td>0.11890</td>\n",
       "    </tr>\n",
       "    <tr>\n",
       "      <th>1</th>\n",
       "      <td>20.57</td>\n",
       "      <td>17.77</td>\n",
       "      <td>132.90</td>\n",
       "      <td>1326.0</td>\n",
       "      <td>0.08474</td>\n",
       "      <td>0.07864</td>\n",
       "      <td>0.0869</td>\n",
       "      <td>0.07017</td>\n",
       "      <td>0.1812</td>\n",
       "      <td>0.05667</td>\n",
       "      <td>...</td>\n",
       "      <td>24.99</td>\n",
       "      <td>23.41</td>\n",
       "      <td>158.80</td>\n",
       "      <td>1956.0</td>\n",
       "      <td>0.1238</td>\n",
       "      <td>0.1866</td>\n",
       "      <td>0.2416</td>\n",
       "      <td>0.1860</td>\n",
       "      <td>0.2750</td>\n",
       "      <td>0.08902</td>\n",
       "    </tr>\n",
       "    <tr>\n",
       "      <th>2</th>\n",
       "      <td>19.69</td>\n",
       "      <td>21.25</td>\n",
       "      <td>130.00</td>\n",
       "      <td>1203.0</td>\n",
       "      <td>0.10960</td>\n",
       "      <td>0.15990</td>\n",
       "      <td>0.1974</td>\n",
       "      <td>0.12790</td>\n",
       "      <td>0.2069</td>\n",
       "      <td>0.05999</td>\n",
       "      <td>...</td>\n",
       "      <td>23.57</td>\n",
       "      <td>25.53</td>\n",
       "      <td>152.50</td>\n",
       "      <td>1709.0</td>\n",
       "      <td>0.1444</td>\n",
       "      <td>0.4245</td>\n",
       "      <td>0.4504</td>\n",
       "      <td>0.2430</td>\n",
       "      <td>0.3613</td>\n",
       "      <td>0.08758</td>\n",
       "    </tr>\n",
       "    <tr>\n",
       "      <th>3</th>\n",
       "      <td>11.42</td>\n",
       "      <td>20.38</td>\n",
       "      <td>77.58</td>\n",
       "      <td>386.1</td>\n",
       "      <td>0.14250</td>\n",
       "      <td>0.28390</td>\n",
       "      <td>0.2414</td>\n",
       "      <td>0.10520</td>\n",
       "      <td>0.2597</td>\n",
       "      <td>0.09744</td>\n",
       "      <td>...</td>\n",
       "      <td>14.91</td>\n",
       "      <td>26.50</td>\n",
       "      <td>98.87</td>\n",
       "      <td>567.7</td>\n",
       "      <td>0.2098</td>\n",
       "      <td>0.8663</td>\n",
       "      <td>0.6869</td>\n",
       "      <td>0.2575</td>\n",
       "      <td>0.6638</td>\n",
       "      <td>0.17300</td>\n",
       "    </tr>\n",
       "    <tr>\n",
       "      <th>4</th>\n",
       "      <td>20.29</td>\n",
       "      <td>14.34</td>\n",
       "      <td>135.10</td>\n",
       "      <td>1297.0</td>\n",
       "      <td>0.10030</td>\n",
       "      <td>0.13280</td>\n",
       "      <td>0.1980</td>\n",
       "      <td>0.10430</td>\n",
       "      <td>0.1809</td>\n",
       "      <td>0.05883</td>\n",
       "      <td>...</td>\n",
       "      <td>22.54</td>\n",
       "      <td>16.67</td>\n",
       "      <td>152.20</td>\n",
       "      <td>1575.0</td>\n",
       "      <td>0.1374</td>\n",
       "      <td>0.2050</td>\n",
       "      <td>0.4000</td>\n",
       "      <td>0.1625</td>\n",
       "      <td>0.2364</td>\n",
       "      <td>0.07678</td>\n",
       "    </tr>\n",
       "  </tbody>\n",
       "</table>\n",
       "<p>5 rows × 30 columns</p>\n",
       "</div>"
      ],
      "text/plain": [
       "   mean radius  mean texture  mean perimeter  mean area  mean smoothness  \\\n",
       "0        17.99         10.38          122.80     1001.0          0.11840   \n",
       "1        20.57         17.77          132.90     1326.0          0.08474   \n",
       "2        19.69         21.25          130.00     1203.0          0.10960   \n",
       "3        11.42         20.38           77.58      386.1          0.14250   \n",
       "4        20.29         14.34          135.10     1297.0          0.10030   \n",
       "\n",
       "   mean compactness  mean concavity  mean concave points  mean symmetry  \\\n",
       "0           0.27760          0.3001              0.14710         0.2419   \n",
       "1           0.07864          0.0869              0.07017         0.1812   \n",
       "2           0.15990          0.1974              0.12790         0.2069   \n",
       "3           0.28390          0.2414              0.10520         0.2597   \n",
       "4           0.13280          0.1980              0.10430         0.1809   \n",
       "\n",
       "   mean fractal dimension  ...  worst radius  worst texture  worst perimeter  \\\n",
       "0                 0.07871  ...         25.38          17.33           184.60   \n",
       "1                 0.05667  ...         24.99          23.41           158.80   \n",
       "2                 0.05999  ...         23.57          25.53           152.50   \n",
       "3                 0.09744  ...         14.91          26.50            98.87   \n",
       "4                 0.05883  ...         22.54          16.67           152.20   \n",
       "\n",
       "   worst area  worst smoothness  worst compactness  worst concavity  \\\n",
       "0      2019.0            0.1622             0.6656           0.7119   \n",
       "1      1956.0            0.1238             0.1866           0.2416   \n",
       "2      1709.0            0.1444             0.4245           0.4504   \n",
       "3       567.7            0.2098             0.8663           0.6869   \n",
       "4      1575.0            0.1374             0.2050           0.4000   \n",
       "\n",
       "   worst concave points  worst symmetry  worst fractal dimension  \n",
       "0                0.2654          0.4601                  0.11890  \n",
       "1                0.1860          0.2750                  0.08902  \n",
       "2                0.2430          0.3613                  0.08758  \n",
       "3                0.2575          0.6638                  0.17300  \n",
       "4                0.1625          0.2364                  0.07678  \n",
       "\n",
       "[5 rows x 30 columns]"
      ]
     },
     "execution_count": 4,
     "metadata": {},
     "output_type": "execute_result"
    }
   ],
   "source": [
    "# Matrix of features\n",
    "\n",
    "x = pd.DataFrame(data = data.data, columns = data.feature_names)\n",
    "x.head()"
   ]
  },
  {
   "cell_type": "code",
   "execution_count": 5,
   "id": "d6add539",
   "metadata": {},
   "outputs": [
    {
     "data": {
      "text/plain": [
       "array([0, 0, 0, 0, 0, 0, 0, 0, 0, 0, 0, 0, 0, 0, 0, 0, 0, 0, 0, 1, 1, 1,\n",
       "       0, 0, 0, 0, 0, 0, 0, 0, 0, 0, 0, 0, 0, 0, 0, 1, 0, 0, 0, 0, 0, 0,\n",
       "       0, 0, 1, 0, 1, 1, 1, 1, 1, 0, 0, 1, 0, 0, 1, 1, 1, 1, 0, 1, 0, 0,\n",
       "       1, 1, 1, 1, 0, 1, 0, 0, 1, 0, 1, 0, 0, 1, 1, 1, 0, 0, 1, 0, 0, 0,\n",
       "       1, 1, 1, 0, 1, 1, 0, 0, 1, 1, 1, 0, 0, 1, 1, 1, 1, 0, 1, 1, 0, 1,\n",
       "       1, 1, 1, 1, 1, 1, 1, 0, 0, 0, 1, 0, 0, 1, 1, 1, 0, 0, 1, 0, 1, 0,\n",
       "       0, 1, 0, 0, 1, 1, 0, 1, 1, 0, 1, 1, 1, 1, 0, 1, 1, 1, 1, 1, 1, 1,\n",
       "       1, 1, 0, 1, 1, 1, 1, 0, 0, 1, 0, 1, 1, 0, 0, 1, 1, 0, 0, 1, 1, 1,\n",
       "       1, 0, 1, 1, 0, 0, 0, 1, 0, 1, 0, 1, 1, 1, 0, 1, 1, 0, 0, 1, 0, 0,\n",
       "       0, 0, 1, 0, 0, 0, 1, 0, 1, 0, 1, 1, 0, 1, 0, 0, 0, 0, 1, 1, 0, 0,\n",
       "       1, 1, 1, 0, 1, 1, 1, 1, 1, 0, 0, 1, 1, 0, 1, 1, 0, 0, 1, 0, 1, 1,\n",
       "       1, 1, 0, 1, 1, 1, 1, 1, 0, 1, 0, 0, 0, 0, 0, 0, 0, 0, 0, 0, 0, 0,\n",
       "       0, 0, 1, 1, 1, 1, 1, 1, 0, 1, 0, 1, 1, 0, 1, 1, 0, 1, 0, 0, 1, 1,\n",
       "       1, 1, 1, 1, 1, 1, 1, 1, 1, 1, 1, 0, 1, 1, 0, 1, 0, 1, 1, 1, 1, 1,\n",
       "       1, 1, 1, 1, 1, 1, 1, 1, 1, 0, 1, 1, 1, 0, 1, 0, 1, 1, 1, 1, 0, 0,\n",
       "       0, 1, 1, 1, 1, 0, 1, 0, 1, 0, 1, 1, 1, 0, 1, 1, 1, 1, 1, 1, 1, 0,\n",
       "       0, 0, 1, 1, 1, 1, 1, 1, 1, 1, 1, 1, 1, 0, 0, 1, 0, 0, 0, 1, 0, 0,\n",
       "       1, 1, 1, 1, 1, 0, 1, 1, 1, 1, 1, 0, 1, 1, 1, 0, 1, 1, 0, 0, 1, 1,\n",
       "       1, 1, 1, 1, 0, 1, 1, 1, 1, 1, 1, 1, 0, 1, 1, 1, 1, 1, 0, 1, 1, 0,\n",
       "       1, 1, 1, 1, 1, 1, 1, 1, 1, 1, 1, 1, 0, 1, 0, 0, 1, 0, 1, 1, 1, 1,\n",
       "       1, 0, 1, 1, 0, 1, 0, 1, 1, 0, 1, 0, 1, 1, 1, 1, 1, 1, 1, 1, 0, 0,\n",
       "       1, 1, 1, 1, 1, 1, 0, 1, 1, 1, 1, 1, 1, 1, 1, 1, 1, 0, 1, 1, 1, 1,\n",
       "       1, 1, 1, 0, 1, 0, 1, 1, 0, 1, 1, 1, 1, 1, 0, 0, 1, 0, 1, 0, 1, 1,\n",
       "       1, 1, 1, 0, 1, 1, 0, 1, 0, 1, 0, 0, 1, 1, 1, 0, 1, 1, 1, 1, 1, 1,\n",
       "       1, 1, 1, 1, 1, 0, 1, 0, 0, 1, 1, 1, 1, 1, 1, 1, 1, 1, 1, 1, 1, 1,\n",
       "       1, 1, 1, 1, 1, 1, 1, 1, 1, 1, 1, 1, 0, 0, 0, 0, 0, 0, 1])"
      ]
     },
     "execution_count": 5,
     "metadata": {},
     "output_type": "execute_result"
    }
   ],
   "source": [
    "# Selecting Dependent variable\n",
    "\n",
    "y = data.target\n",
    "y"
   ]
  },
  {
   "cell_type": "code",
   "execution_count": 6,
   "id": "76970e80",
   "metadata": {},
   "outputs": [
    {
     "data": {
      "text/plain": [
       "array(['malignant', 'benign'], dtype='<U9')"
      ]
     },
     "execution_count": 6,
     "metadata": {},
     "output_type": "execute_result"
    }
   ],
   "source": [
    "data.target_names"
   ]
  },
  {
   "cell_type": "code",
   "execution_count": 7,
   "id": "aca4eeb6",
   "metadata": {},
   "outputs": [
    {
     "data": {
      "text/plain": [
       "((569, 30), (569,))"
      ]
     },
     "execution_count": 7,
     "metadata": {},
     "output_type": "execute_result"
    }
   ],
   "source": [
    "x.shape, y.shape"
   ]
  },
  {
   "cell_type": "code",
   "execution_count": 8,
   "id": "87ded4a1",
   "metadata": {},
   "outputs": [],
   "source": [
    "# Spliting the dataset in train and test set\n",
    "\n",
    "from sklearn.model_selection import train_test_split\n",
    "\n",
    "x_train, x_test, y_train, y_test= train_test_split(x, y,\n",
    "                                                  test_size = 0.2,\n",
    "                                                  random_state = 0)"
   ]
  },
  {
   "cell_type": "code",
   "execution_count": 9,
   "id": "855ac1e5",
   "metadata": {},
   "outputs": [
    {
     "data": {
      "text/plain": [
       "((455, 30), (455,))"
      ]
     },
     "execution_count": 9,
     "metadata": {},
     "output_type": "execute_result"
    }
   ],
   "source": [
    "x_train.shape, y_train.shape"
   ]
  },
  {
   "cell_type": "code",
   "execution_count": 10,
   "id": "5989598b",
   "metadata": {},
   "outputs": [
    {
     "data": {
      "text/plain": [
       "((114, 30), (114,))"
      ]
     },
     "execution_count": 10,
     "metadata": {},
     "output_type": "execute_result"
    }
   ],
   "source": [
    "x_test.shape, y_test.shape"
   ]
  },
  {
   "cell_type": "code",
   "execution_count": 11,
   "id": "9657136a",
   "metadata": {},
   "outputs": [],
   "source": [
    "# Feature Scalling\n",
    "\n",
    "from sklearn.preprocessing import StandardScaler\n",
    "\n",
    "scaler= StandardScaler()\n",
    "x_train = scaler.fit_transform(x_train)\n",
    "x_test = scaler.fit_transform(x_test)"
   ]
  },
  {
   "cell_type": "code",
   "execution_count": 12,
   "id": "5b22a21d",
   "metadata": {},
   "outputs": [
    {
     "data": {
      "text/plain": [
       "array([[-1.15036482, -0.39064196, -1.12855021, ..., -0.75798367,\n",
       "        -0.01614761, -0.38503402],\n",
       "       [-0.93798972,  0.68051405, -0.94820146, ..., -0.60687023,\n",
       "         0.09669004, -0.38615797],\n",
       "       [ 0.574121  , -1.03333557,  0.51394098, ..., -0.02371948,\n",
       "        -0.20050207, -0.75144254],\n",
       "       ...,\n",
       "       [-1.32422924, -0.20048168, -1.31754581, ..., -0.97974953,\n",
       "        -0.71542314, -0.11978123],\n",
       "       [-1.24380987, -0.2245526 , -1.28007609, ..., -1.75401433,\n",
       "        -1.58157125, -1.00601779],\n",
       "       [-0.73694129,  1.14989702, -0.71226578, ..., -0.27460457,\n",
       "        -1.25895095,  0.21515662]])"
      ]
     },
     "execution_count": 12,
     "metadata": {},
     "output_type": "execute_result"
    }
   ],
   "source": [
    "x_train"
   ]
  },
  {
   "cell_type": "code",
   "execution_count": 13,
   "id": "ad73cf83",
   "metadata": {},
   "outputs": [
    {
     "data": {
      "text/plain": [
       "array([[-0.22609091,  0.14299357, -0.16219992, ...,  1.33438591,\n",
       "         1.22101459,  1.32977555],\n",
       "       [-0.28072076,  1.13113906, -0.34954245, ..., -0.81952682,\n",
       "        -0.77541863, -0.94570364],\n",
       "       [-0.04782508, -0.87231025, -0.12299829, ..., -0.49120548,\n",
       "        -1.31433312, -0.98696059],\n",
       "       ...,\n",
       "       [ 1.7233322 , -0.06173848,  1.70132185, ...,  1.51554921,\n",
       "         0.25341812, -0.26496405],\n",
       "       [ 1.18565945,  0.15552818,  1.16487847, ...,  0.53103066,\n",
       "         0.32690646, -0.37709831],\n",
       "       [ 0.24545096, -0.64668718,  0.25416267, ..., -0.19956228,\n",
       "        -1.2425945 , -0.01424877]])"
      ]
     },
     "execution_count": 13,
     "metadata": {},
     "output_type": "execute_result"
    }
   ],
   "source": [
    "x_test"
   ]
  },
  {
   "cell_type": "code",
   "execution_count": 14,
   "id": "3e0390f2",
   "metadata": {},
   "outputs": [
    {
     "data": {
      "text/plain": [
       "((455, 30), (114, 30))"
      ]
     },
     "execution_count": 14,
     "metadata": {},
     "output_type": "execute_result"
    }
   ],
   "source": [
    "x_train.shape, x_test.shape"
   ]
  },
  {
   "cell_type": "code",
   "execution_count": 15,
   "id": "0ab3f81a",
   "metadata": {},
   "outputs": [],
   "source": [
    "x_train = x_train.reshape(455, 30, 1)\n",
    "x_test = x_test.reshape(114, 30, 1)"
   ]
  },
  {
   "cell_type": "code",
   "execution_count": 16,
   "id": "43db3210",
   "metadata": {},
   "outputs": [
    {
     "data": {
      "text/plain": [
       "((455, 30, 1), (114, 30, 1))"
      ]
     },
     "execution_count": 16,
     "metadata": {},
     "output_type": "execute_result"
    }
   ],
   "source": [
    "x_train.shape, x_test.shape"
   ]
  },
  {
   "cell_type": "markdown",
   "id": "d8821c84",
   "metadata": {},
   "source": [
    "## Building a Model\n"
   ]
  },
  {
   "cell_type": "code",
   "execution_count": 17,
   "id": "b0acdea8",
   "metadata": {},
   "outputs": [],
   "source": [
    "model = tf.keras.models.Sequential()\n"
   ]
  },
  {
   "cell_type": "code",
   "execution_count": 18,
   "id": "f3706079",
   "metadata": {},
   "outputs": [],
   "source": [
    "# Adding First CNN layer\n",
    "\n",
    "model.add(tf.keras.layers.Conv1D(filters = 32, \n",
    "                                kernel_size = 2,\n",
    "                                activation = 'relu',\n",
    "                                input_shape = [30,1]))\n",
    "# batch Normalization - allows each layer of network to learn by itself a bit more independent\n",
    "\n",
    "model.add(tf.keras.layers.BatchNormalization())\n",
    "\n",
    "\n",
    "# dropout layer\n",
    "\n",
    "model.add(tf.keras.layers.Dropout(0.2))\n",
    "\n"
   ]
  },
  {
   "cell_type": "code",
   "execution_count": 19,
   "id": "8b2c6930",
   "metadata": {},
   "outputs": [],
   "source": [
    "# Second CNN layer\n",
    "\n",
    "model.add(tf.keras.layers.Conv1D(filters = 64,\n",
    "                                kernel_size = 2,\n",
    "                                activation ='relu'))\n",
    "\n",
    "model.add(tf.keras.layers.BatchNormalization())\n",
    "          \n",
    "model.add(tf.keras.layers.Dropout(0.4))"
   ]
  },
  {
   "cell_type": "code",
   "execution_count": 20,
   "id": "14891a8d",
   "metadata": {},
   "outputs": [],
   "source": [
    "# Add Flatten Layer\n",
    "\n",
    "model.add(tf.keras.layers.Flatten())"
   ]
  },
  {
   "cell_type": "code",
   "execution_count": 21,
   "id": "dec054d2",
   "metadata": {},
   "outputs": [],
   "source": [
    "# Dense layer (fully connected layer)\n",
    "\n",
    "model.add(tf.keras.layers.Dense(units = 128, activation = 'relu'))\n",
    "\n",
    "# output layer\n",
    "\n",
    "model.add(tf.keras.layers.Dense(units = 1, activation = 'sigmoid'))\n"
   ]
  },
  {
   "cell_type": "code",
   "execution_count": 22,
   "id": "778837db",
   "metadata": {},
   "outputs": [
    {
     "name": "stdout",
     "output_type": "stream",
     "text": [
      "Model: \"sequential\"\n",
      "_________________________________________________________________\n",
      "Layer (type)                 Output Shape              Param #   \n",
      "=================================================================\n",
      "conv1d (Conv1D)              (None, 29, 32)            96        \n",
      "_________________________________________________________________\n",
      "batch_normalization (BatchNo (None, 29, 32)            128       \n",
      "_________________________________________________________________\n",
      "dropout (Dropout)            (None, 29, 32)            0         \n",
      "_________________________________________________________________\n",
      "conv1d_1 (Conv1D)            (None, 28, 64)            4160      \n",
      "_________________________________________________________________\n",
      "batch_normalization_1 (Batch (None, 28, 64)            256       \n",
      "_________________________________________________________________\n",
      "dropout_1 (Dropout)          (None, 28, 64)            0         \n",
      "_________________________________________________________________\n",
      "flatten (Flatten)            (None, 1792)              0         \n",
      "_________________________________________________________________\n",
      "dense (Dense)                (None, 128)               229504    \n",
      "_________________________________________________________________\n",
      "dense_1 (Dense)              (None, 1)                 129       \n",
      "=================================================================\n",
      "Total params: 234,273\n",
      "Trainable params: 234,081\n",
      "Non-trainable params: 192\n",
      "_________________________________________________________________\n"
     ]
    }
   ],
   "source": [
    "model.summary()"
   ]
  },
  {
   "cell_type": "code",
   "execution_count": 23,
   "id": "69c8ac69",
   "metadata": {},
   "outputs": [],
   "source": [
    "# Compiling the model\n",
    "\n",
    "opt = tf.keras.optimizers.Adam(learning_rate = 0.00005)\n",
    "\n",
    "model.compile(optimizer = opt, \n",
    "              loss = 'binary_crossentropy', \n",
    "              metrics = ['accuracy'])"
   ]
  },
  {
   "cell_type": "code",
   "execution_count": 24,
   "id": "155879c0",
   "metadata": {},
   "outputs": [
    {
     "name": "stdout",
     "output_type": "stream",
     "text": [
      "Epoch 1/111\n",
      "15/15 [==============================] - 1s 27ms/step - loss: 0.7018 - accuracy: 0.6264 - val_loss: 0.6227 - val_accuracy: 0.8772\n",
      "Epoch 2/111\n",
      "15/15 [==============================] - 0s 8ms/step - loss: 0.3773 - accuracy: 0.8659 - val_loss: 0.5667 - val_accuracy: 0.8684\n",
      "Epoch 3/111\n",
      "15/15 [==============================] - 0s 8ms/step - loss: 0.2474 - accuracy: 0.8945 - val_loss: 0.5237 - val_accuracy: 0.8333\n",
      "Epoch 4/111\n",
      "15/15 [==============================] - 0s 9ms/step - loss: 0.2175 - accuracy: 0.9077 - val_loss: 0.4912 - val_accuracy: 0.8070\n",
      "Epoch 5/111\n",
      "15/15 [==============================] - 0s 9ms/step - loss: 0.1723 - accuracy: 0.9297 - val_loss: 0.4682 - val_accuracy: 0.7895\n",
      "Epoch 6/111\n",
      "15/15 [==============================] - 0s 9ms/step - loss: 0.1620 - accuracy: 0.9407 - val_loss: 0.4500 - val_accuracy: 0.7632\n",
      "Epoch 7/111\n",
      "15/15 [==============================] - 0s 9ms/step - loss: 0.1559 - accuracy: 0.9385 - val_loss: 0.4353 - val_accuracy: 0.7632\n",
      "Epoch 8/111\n",
      "15/15 [==============================] - 0s 9ms/step - loss: 0.1428 - accuracy: 0.9385 - val_loss: 0.4234 - val_accuracy: 0.7544\n",
      "Epoch 9/111\n",
      "15/15 [==============================] - 0s 9ms/step - loss: 0.1264 - accuracy: 0.9495 - val_loss: 0.4055 - val_accuracy: 0.7807\n",
      "Epoch 10/111\n",
      "15/15 [==============================] - 0s 9ms/step - loss: 0.1237 - accuracy: 0.9473 - val_loss: 0.3954 - val_accuracy: 0.7807\n",
      "Epoch 11/111\n",
      "15/15 [==============================] - 0s 10ms/step - loss: 0.1047 - accuracy: 0.9582 - val_loss: 0.3853 - val_accuracy: 0.7895\n",
      "Epoch 12/111\n",
      "15/15 [==============================] - 0s 8ms/step - loss: 0.0979 - accuracy: 0.9670 - val_loss: 0.3700 - val_accuracy: 0.7982\n",
      "Epoch 13/111\n",
      "15/15 [==============================] - 0s 8ms/step - loss: 0.1162 - accuracy: 0.9626 - val_loss: 0.3517 - val_accuracy: 0.8246\n",
      "Epoch 14/111\n",
      "15/15 [==============================] - 0s 9ms/step - loss: 0.1204 - accuracy: 0.9516 - val_loss: 0.3334 - val_accuracy: 0.8246\n",
      "Epoch 15/111\n",
      "15/15 [==============================] - 0s 9ms/step - loss: 0.0901 - accuracy: 0.9692 - val_loss: 0.2967 - val_accuracy: 0.8509\n",
      "Epoch 16/111\n",
      "15/15 [==============================] - 0s 9ms/step - loss: 0.1099 - accuracy: 0.9538 - val_loss: 0.2694 - val_accuracy: 0.8509\n",
      "Epoch 17/111\n",
      "15/15 [==============================] - 0s 9ms/step - loss: 0.1034 - accuracy: 0.9648 - val_loss: 0.2524 - val_accuracy: 0.8596\n",
      "Epoch 18/111\n",
      "15/15 [==============================] - 0s 8ms/step - loss: 0.0990 - accuracy: 0.9626 - val_loss: 0.2415 - val_accuracy: 0.8684\n",
      "Epoch 19/111\n",
      "15/15 [==============================] - 0s 9ms/step - loss: 0.0847 - accuracy: 0.9736 - val_loss: 0.2226 - val_accuracy: 0.8860\n",
      "Epoch 20/111\n",
      "15/15 [==============================] - 0s 9ms/step - loss: 0.0890 - accuracy: 0.9714 - val_loss: 0.2021 - val_accuracy: 0.9035\n",
      "Epoch 21/111\n",
      "15/15 [==============================] - 0s 9ms/step - loss: 0.0885 - accuracy: 0.9692 - val_loss: 0.1847 - val_accuracy: 0.9211\n",
      "Epoch 22/111\n",
      "15/15 [==============================] - 0s 8ms/step - loss: 0.0831 - accuracy: 0.9758 - val_loss: 0.1682 - val_accuracy: 0.9211\n",
      "Epoch 23/111\n",
      "15/15 [==============================] - 0s 8ms/step - loss: 0.0818 - accuracy: 0.9714 - val_loss: 0.1561 - val_accuracy: 0.9298\n",
      "Epoch 24/111\n",
      "15/15 [==============================] - 0s 9ms/step - loss: 0.0819 - accuracy: 0.9692 - val_loss: 0.1482 - val_accuracy: 0.9298\n",
      "Epoch 25/111\n",
      "15/15 [==============================] - 0s 9ms/step - loss: 0.0917 - accuracy: 0.9736 - val_loss: 0.1347 - val_accuracy: 0.9298\n",
      "Epoch 26/111\n",
      "15/15 [==============================] - 0s 9ms/step - loss: 0.0888 - accuracy: 0.9670 - val_loss: 0.1262 - val_accuracy: 0.9386\n",
      "Epoch 27/111\n",
      "15/15 [==============================] - 0s 9ms/step - loss: 0.0622 - accuracy: 0.9802 - val_loss: 0.1212 - val_accuracy: 0.9561\n",
      "Epoch 28/111\n",
      "15/15 [==============================] - 0s 9ms/step - loss: 0.0954 - accuracy: 0.9604 - val_loss: 0.1174 - val_accuracy: 0.9561\n",
      "Epoch 29/111\n",
      "15/15 [==============================] - 0s 9ms/step - loss: 0.0788 - accuracy: 0.9714 - val_loss: 0.1101 - val_accuracy: 0.9649\n",
      "Epoch 30/111\n",
      "15/15 [==============================] - 0s 9ms/step - loss: 0.0788 - accuracy: 0.9714 - val_loss: 0.1104 - val_accuracy: 0.9737\n",
      "Epoch 31/111\n",
      "15/15 [==============================] - 0s 8ms/step - loss: 0.0681 - accuracy: 0.9824 - val_loss: 0.1059 - val_accuracy: 0.9737\n",
      "Epoch 32/111\n",
      "15/15 [==============================] - 0s 9ms/step - loss: 0.0603 - accuracy: 0.9802 - val_loss: 0.1088 - val_accuracy: 0.9737\n",
      "Epoch 33/111\n",
      "15/15 [==============================] - 0s 9ms/step - loss: 0.0696 - accuracy: 0.9780 - val_loss: 0.1067 - val_accuracy: 0.9737\n",
      "Epoch 34/111\n",
      "15/15 [==============================] - 0s 8ms/step - loss: 0.0716 - accuracy: 0.9714 - val_loss: 0.1046 - val_accuracy: 0.9737\n",
      "Epoch 35/111\n",
      "15/15 [==============================] - 0s 10ms/step - loss: 0.0538 - accuracy: 0.9824 - val_loss: 0.1017 - val_accuracy: 0.9737\n",
      "Epoch 36/111\n",
      "15/15 [==============================] - 0s 11ms/step - loss: 0.0603 - accuracy: 0.9846 - val_loss: 0.0991 - val_accuracy: 0.9737\n",
      "Epoch 37/111\n",
      "15/15 [==============================] - 0s 8ms/step - loss: 0.0598 - accuracy: 0.9802 - val_loss: 0.0939 - val_accuracy: 0.9737\n",
      "Epoch 38/111\n",
      "15/15 [==============================] - 0s 9ms/step - loss: 0.0469 - accuracy: 0.9802 - val_loss: 0.0933 - val_accuracy: 0.9737\n",
      "Epoch 39/111\n",
      "15/15 [==============================] - 0s 8ms/step - loss: 0.0671 - accuracy: 0.9758 - val_loss: 0.0894 - val_accuracy: 0.9737\n",
      "Epoch 40/111\n",
      "15/15 [==============================] - 0s 8ms/step - loss: 0.0760 - accuracy: 0.9714 - val_loss: 0.0876 - val_accuracy: 0.9737\n",
      "Epoch 41/111\n",
      "15/15 [==============================] - 0s 8ms/step - loss: 0.0637 - accuracy: 0.9802 - val_loss: 0.0861 - val_accuracy: 0.9737\n",
      "Epoch 42/111\n",
      "15/15 [==============================] - 0s 9ms/step - loss: 0.0521 - accuracy: 0.9802 - val_loss: 0.0828 - val_accuracy: 0.9649\n",
      "Epoch 43/111\n",
      "15/15 [==============================] - 0s 8ms/step - loss: 0.0550 - accuracy: 0.9780 - val_loss: 0.0807 - val_accuracy: 0.9649\n",
      "Epoch 44/111\n",
      "15/15 [==============================] - 0s 8ms/step - loss: 0.0705 - accuracy: 0.9692 - val_loss: 0.0819 - val_accuracy: 0.9649\n",
      "Epoch 45/111\n",
      "15/15 [==============================] - 0s 9ms/step - loss: 0.0658 - accuracy: 0.9692 - val_loss: 0.0819 - val_accuracy: 0.9649\n",
      "Epoch 46/111\n",
      "15/15 [==============================] - 0s 9ms/step - loss: 0.0504 - accuracy: 0.9802 - val_loss: 0.0822 - val_accuracy: 0.9649\n",
      "Epoch 47/111\n",
      "15/15 [==============================] - 0s 8ms/step - loss: 0.0611 - accuracy: 0.9736 - val_loss: 0.0815 - val_accuracy: 0.9649\n",
      "Epoch 48/111\n",
      "15/15 [==============================] - 0s 8ms/step - loss: 0.0560 - accuracy: 0.9846 - val_loss: 0.0815 - val_accuracy: 0.9649\n",
      "Epoch 49/111\n",
      "15/15 [==============================] - 0s 9ms/step - loss: 0.0530 - accuracy: 0.9824 - val_loss: 0.0811 - val_accuracy: 0.9649\n",
      "Epoch 50/111\n",
      "15/15 [==============================] - 0s 8ms/step - loss: 0.0475 - accuracy: 0.9824 - val_loss: 0.0789 - val_accuracy: 0.9649\n",
      "Epoch 51/111\n",
      "15/15 [==============================] - 0s 8ms/step - loss: 0.0472 - accuracy: 0.9824 - val_loss: 0.0781 - val_accuracy: 0.9649\n",
      "Epoch 52/111\n",
      "15/15 [==============================] - 0s 8ms/step - loss: 0.0439 - accuracy: 0.9846 - val_loss: 0.0794 - val_accuracy: 0.9649\n",
      "Epoch 53/111\n",
      "15/15 [==============================] - 0s 8ms/step - loss: 0.0442 - accuracy: 0.9868 - val_loss: 0.0805 - val_accuracy: 0.9649\n",
      "Epoch 54/111\n",
      "15/15 [==============================] - 0s 9ms/step - loss: 0.0545 - accuracy: 0.9802 - val_loss: 0.0807 - val_accuracy: 0.9649\n",
      "Epoch 55/111\n",
      "15/15 [==============================] - 0s 8ms/step - loss: 0.0564 - accuracy: 0.9780 - val_loss: 0.0817 - val_accuracy: 0.9649\n",
      "Epoch 56/111\n",
      "15/15 [==============================] - 0s 8ms/step - loss: 0.0382 - accuracy: 0.9912 - val_loss: 0.0810 - val_accuracy: 0.9649\n",
      "Epoch 57/111\n",
      "15/15 [==============================] - 0s 8ms/step - loss: 0.0413 - accuracy: 0.9802 - val_loss: 0.0796 - val_accuracy: 0.9649\n",
      "Epoch 58/111\n",
      "15/15 [==============================] - 0s 9ms/step - loss: 0.0475 - accuracy: 0.9802 - val_loss: 0.0779 - val_accuracy: 0.9649\n"
     ]
    },
    {
     "name": "stdout",
     "output_type": "stream",
     "text": [
      "Epoch 59/111\n",
      "15/15 [==============================] - 0s 9ms/step - loss: 0.0415 - accuracy: 0.9802 - val_loss: 0.0773 - val_accuracy: 0.9649\n",
      "Epoch 60/111\n",
      "15/15 [==============================] - 0s 8ms/step - loss: 0.0556 - accuracy: 0.9802 - val_loss: 0.0817 - val_accuracy: 0.9649\n",
      "Epoch 61/111\n",
      "15/15 [==============================] - 0s 8ms/step - loss: 0.0352 - accuracy: 0.9868 - val_loss: 0.0813 - val_accuracy: 0.9649\n",
      "Epoch 62/111\n",
      "15/15 [==============================] - 0s 9ms/step - loss: 0.0686 - accuracy: 0.9736 - val_loss: 0.0840 - val_accuracy: 0.9649\n",
      "Epoch 63/111\n",
      "15/15 [==============================] - 0s 9ms/step - loss: 0.0506 - accuracy: 0.9736 - val_loss: 0.0841 - val_accuracy: 0.9649\n",
      "Epoch 64/111\n",
      "15/15 [==============================] - 0s 9ms/step - loss: 0.0751 - accuracy: 0.9670 - val_loss: 0.0844 - val_accuracy: 0.9649\n",
      "Epoch 65/111\n",
      "15/15 [==============================] - 0s 8ms/step - loss: 0.0482 - accuracy: 0.9780 - val_loss: 0.0842 - val_accuracy: 0.9649\n",
      "Epoch 66/111\n",
      "15/15 [==============================] - 0s 9ms/step - loss: 0.0392 - accuracy: 0.9846 - val_loss: 0.0834 - val_accuracy: 0.9649\n",
      "Epoch 67/111\n",
      "15/15 [==============================] - 0s 9ms/step - loss: 0.0374 - accuracy: 0.9868 - val_loss: 0.0816 - val_accuracy: 0.9649\n",
      "Epoch 68/111\n",
      "15/15 [==============================] - 0s 8ms/step - loss: 0.0392 - accuracy: 0.9890 - val_loss: 0.0815 - val_accuracy: 0.9649\n",
      "Epoch 69/111\n",
      "15/15 [==============================] - 0s 8ms/step - loss: 0.0532 - accuracy: 0.9736 - val_loss: 0.0803 - val_accuracy: 0.9649\n",
      "Epoch 70/111\n",
      "15/15 [==============================] - 0s 8ms/step - loss: 0.0339 - accuracy: 0.9890 - val_loss: 0.0797 - val_accuracy: 0.9649\n",
      "Epoch 71/111\n",
      "15/15 [==============================] - 0s 9ms/step - loss: 0.0414 - accuracy: 0.9824 - val_loss: 0.0782 - val_accuracy: 0.9649\n",
      "Epoch 72/111\n",
      "15/15 [==============================] - 0s 12ms/step - loss: 0.0470 - accuracy: 0.9802 - val_loss: 0.0787 - val_accuracy: 0.9649\n",
      "Epoch 73/111\n",
      "15/15 [==============================] - 0s 11ms/step - loss: 0.0436 - accuracy: 0.9802 - val_loss: 0.0790 - val_accuracy: 0.9649\n",
      "Epoch 74/111\n",
      "15/15 [==============================] - 0s 8ms/step - loss: 0.0378 - accuracy: 0.9890 - val_loss: 0.0788 - val_accuracy: 0.9649\n",
      "Epoch 75/111\n",
      "15/15 [==============================] - 0s 9ms/step - loss: 0.0437 - accuracy: 0.9846 - val_loss: 0.0777 - val_accuracy: 0.9649\n",
      "Epoch 76/111\n",
      "15/15 [==============================] - 0s 8ms/step - loss: 0.0432 - accuracy: 0.9824 - val_loss: 0.0785 - val_accuracy: 0.9649\n",
      "Epoch 77/111\n",
      "15/15 [==============================] - 0s 8ms/step - loss: 0.0491 - accuracy: 0.9802 - val_loss: 0.0809 - val_accuracy: 0.9649\n",
      "Epoch 78/111\n",
      "15/15 [==============================] - 0s 8ms/step - loss: 0.0474 - accuracy: 0.9824 - val_loss: 0.0831 - val_accuracy: 0.9649\n",
      "Epoch 79/111\n",
      "15/15 [==============================] - 0s 8ms/step - loss: 0.0519 - accuracy: 0.9758 - val_loss: 0.0832 - val_accuracy: 0.9649\n",
      "Epoch 80/111\n",
      "15/15 [==============================] - 0s 8ms/step - loss: 0.0392 - accuracy: 0.9890 - val_loss: 0.0821 - val_accuracy: 0.9649\n",
      "Epoch 81/111\n",
      "15/15 [==============================] - 0s 8ms/step - loss: 0.0341 - accuracy: 0.9890 - val_loss: 0.0823 - val_accuracy: 0.9649\n",
      "Epoch 82/111\n",
      "15/15 [==============================] - 0s 9ms/step - loss: 0.0361 - accuracy: 0.9868 - val_loss: 0.0849 - val_accuracy: 0.9649\n",
      "Epoch 83/111\n",
      "15/15 [==============================] - 0s 8ms/step - loss: 0.0398 - accuracy: 0.9824 - val_loss: 0.0851 - val_accuracy: 0.9649\n",
      "Epoch 84/111\n",
      "15/15 [==============================] - 0s 10ms/step - loss: 0.0520 - accuracy: 0.9802 - val_loss: 0.0872 - val_accuracy: 0.9737\n",
      "Epoch 85/111\n",
      "15/15 [==============================] - 0s 8ms/step - loss: 0.0528 - accuracy: 0.9780 - val_loss: 0.0869 - val_accuracy: 0.9649\n",
      "Epoch 86/111\n",
      "15/15 [==============================] - 0s 9ms/step - loss: 0.0475 - accuracy: 0.9890 - val_loss: 0.0874 - val_accuracy: 0.9737\n",
      "Epoch 87/111\n",
      "15/15 [==============================] - 0s 8ms/step - loss: 0.0275 - accuracy: 0.9956 - val_loss: 0.0862 - val_accuracy: 0.9649\n",
      "Epoch 88/111\n",
      "15/15 [==============================] - 0s 8ms/step - loss: 0.0325 - accuracy: 0.9890 - val_loss: 0.0861 - val_accuracy: 0.9649\n",
      "Epoch 89/111\n",
      "15/15 [==============================] - 0s 8ms/step - loss: 0.0385 - accuracy: 0.9934 - val_loss: 0.0865 - val_accuracy: 0.9649\n",
      "Epoch 90/111\n",
      "15/15 [==============================] - 0s 8ms/step - loss: 0.0380 - accuracy: 0.9846 - val_loss: 0.0853 - val_accuracy: 0.9649\n",
      "Epoch 91/111\n",
      "15/15 [==============================] - 0s 10ms/step - loss: 0.0231 - accuracy: 0.9912 - val_loss: 0.0838 - val_accuracy: 0.9649\n",
      "Epoch 92/111\n",
      "15/15 [==============================] - 0s 9ms/step - loss: 0.0348 - accuracy: 0.9890 - val_loss: 0.0838 - val_accuracy: 0.9649\n",
      "Epoch 93/111\n",
      "15/15 [==============================] - 0s 9ms/step - loss: 0.0364 - accuracy: 0.9912 - val_loss: 0.0822 - val_accuracy: 0.9649\n",
      "Epoch 94/111\n",
      "15/15 [==============================] - 0s 8ms/step - loss: 0.0274 - accuracy: 0.9934 - val_loss: 0.0809 - val_accuracy: 0.9649\n",
      "Epoch 95/111\n",
      "15/15 [==============================] - 0s 8ms/step - loss: 0.0239 - accuracy: 0.9934 - val_loss: 0.0800 - val_accuracy: 0.9649\n",
      "Epoch 96/111\n",
      "15/15 [==============================] - 0s 9ms/step - loss: 0.0324 - accuracy: 0.9890 - val_loss: 0.0786 - val_accuracy: 0.9737\n",
      "Epoch 97/111\n",
      "15/15 [==============================] - 0s 9ms/step - loss: 0.0358 - accuracy: 0.9868 - val_loss: 0.0782 - val_accuracy: 0.9649\n",
      "Epoch 98/111\n",
      "15/15 [==============================] - 0s 9ms/step - loss: 0.0237 - accuracy: 0.9912 - val_loss: 0.0790 - val_accuracy: 0.9649\n",
      "Epoch 99/111\n",
      "15/15 [==============================] - 0s 8ms/step - loss: 0.0221 - accuracy: 0.9912 - val_loss: 0.0794 - val_accuracy: 0.9737\n",
      "Epoch 100/111\n",
      "15/15 [==============================] - 0s 9ms/step - loss: 0.0295 - accuracy: 0.9890 - val_loss: 0.0802 - val_accuracy: 0.9737\n",
      "Epoch 101/111\n",
      "15/15 [==============================] - 0s 8ms/step - loss: 0.0305 - accuracy: 0.9912 - val_loss: 0.0798 - val_accuracy: 0.9737\n",
      "Epoch 102/111\n",
      "15/15 [==============================] - 0s 8ms/step - loss: 0.0304 - accuracy: 0.9912 - val_loss: 0.0788 - val_accuracy: 0.9737\n",
      "Epoch 103/111\n",
      "15/15 [==============================] - 0s 8ms/step - loss: 0.0480 - accuracy: 0.9780 - val_loss: 0.0791 - val_accuracy: 0.9737\n",
      "Epoch 104/111\n",
      "15/15 [==============================] - 0s 8ms/step - loss: 0.0340 - accuracy: 0.9890 - val_loss: 0.0791 - val_accuracy: 0.9649\n",
      "Epoch 105/111\n",
      "15/15 [==============================] - 0s 8ms/step - loss: 0.0392 - accuracy: 0.9890 - val_loss: 0.0787 - val_accuracy: 0.9737\n",
      "Epoch 106/111\n",
      "15/15 [==============================] - 0s 9ms/step - loss: 0.0360 - accuracy: 0.9912 - val_loss: 0.0769 - val_accuracy: 0.9737\n",
      "Epoch 107/111\n",
      "15/15 [==============================] - 0s 9ms/step - loss: 0.0349 - accuracy: 0.9912 - val_loss: 0.0760 - val_accuracy: 0.9649\n",
      "Epoch 108/111\n",
      "15/15 [==============================] - 0s 8ms/step - loss: 0.0293 - accuracy: 0.9912 - val_loss: 0.0772 - val_accuracy: 0.9649\n",
      "Epoch 109/111\n",
      "15/15 [==============================] - 0s 8ms/step - loss: 0.0498 - accuracy: 0.9824 - val_loss: 0.0762 - val_accuracy: 0.9649\n",
      "Epoch 110/111\n",
      "15/15 [==============================] - 0s 8ms/step - loss: 0.0428 - accuracy: 0.9824 - val_loss: 0.0758 - val_accuracy: 0.9649\n",
      "Epoch 111/111\n",
      "15/15 [==============================] - 0s 9ms/step - loss: 0.0297 - accuracy: 0.9868 - val_loss: 0.0759 - val_accuracy: 0.9649\n"
     ]
    }
   ],
   "source": [
    "history = model.fit(x_train, y_train, epochs = 111, validation_data = (x_test, y_test), verbose = 1)"
   ]
  },
  {
   "cell_type": "markdown",
   "id": "07f7e81c",
   "metadata": {},
   "source": [
    "## Model Prediction and Evaluation\n"
   ]
  },
  {
   "cell_type": "code",
   "execution_count": 25,
   "id": "74cbbd0b",
   "metadata": {},
   "outputs": [],
   "source": [
    "# model \n",
    "y_pred = model.predict(x_test)\n",
    "y_pred = np.round(y_pred).astype(int)"
   ]
  },
  {
   "cell_type": "code",
   "execution_count": 26,
   "id": "a85ca970",
   "metadata": {},
   "outputs": [
    {
     "data": {
      "text/plain": [
       "(array([0]), 0)"
      ]
     },
     "execution_count": 26,
     "metadata": {},
     "output_type": "execute_result"
    }
   ],
   "source": [
    "y_pred[0], y_test[0]"
   ]
  },
  {
   "cell_type": "code",
   "execution_count": 27,
   "id": "987701b8",
   "metadata": {},
   "outputs": [
    {
     "data": {
      "text/plain": [
       "(array([1]), 1)"
      ]
     },
     "execution_count": 27,
     "metadata": {},
     "output_type": "execute_result"
    }
   ],
   "source": [
    "y_pred [46], y_test[46]"
   ]
  },
  {
   "cell_type": "code",
   "execution_count": 28,
   "id": "f04f62dc",
   "metadata": {},
   "outputs": [
    {
     "data": {
      "text/plain": [
       "array(['malignant', 'benign'], dtype='<U9')"
      ]
     },
     "execution_count": 28,
     "metadata": {},
     "output_type": "execute_result"
    }
   ],
   "source": [
    "data.target_names"
   ]
  },
  {
   "cell_type": "code",
   "execution_count": 29,
   "id": "597b1f3e",
   "metadata": {},
   "outputs": [],
   "source": [
    "from sklearn.metrics import confusion_matrix, accuracy_score"
   ]
  },
  {
   "cell_type": "code",
   "execution_count": 30,
   "id": "9c2babee",
   "metadata": {},
   "outputs": [
    {
     "name": "stdout",
     "output_type": "stream",
     "text": [
      "Confusion Matrix: \n"
     ]
    },
    {
     "data": {
      "text/plain": [
       "array([[44,  3],\n",
       "       [ 1, 66]], dtype=int64)"
      ]
     },
     "execution_count": 30,
     "metadata": {},
     "output_type": "execute_result"
    }
   ],
   "source": [
    "cm = confusion_matrix(y_test, y_pred)\n",
    "print('Confusion Matrix: ')\n",
    "cm"
   ]
  },
  {
   "cell_type": "code",
   "execution_count": 31,
   "id": "b1638701",
   "metadata": {},
   "outputs": [
    {
     "data": {
      "image/png": "[encoded data removed]",
      "text/plain": [
       "<Figure size 432x288 with 2 Axes>"
      ]
     },
     "metadata": {
      "needs_background": "light"
     },
     "output_type": "display_data"
    }
   ],
   "source": [
    "sns.heatmap(data = cm)\n",
    "plt.title('Confusion  Matrix: ');"
   ]
  },
  {
   "cell_type": "code",
   "execution_count": 32,
   "id": "69e1837e",
   "metadata": {},
   "outputs": [
    {
     "name": "stdout",
     "output_type": "stream",
     "text": [
      "Accuracy Score:  96.49122807017544 %\n"
     ]
    }
   ],
   "source": [
    "accuracy = accuracy_score(y_test, y_pred)\n",
    "print('Accuracy Score: ', accuracy * 100 ,'%')"
   ]
  },
  {
   "cell_type": "code",
   "execution_count": 33,
   "id": "549c1b02",
   "metadata": {},
   "outputs": [],
   "source": [
    "def learning_curve(history, epoch):\n",
    "\n",
    "  # Training Vs Accuracy\n",
    "  epoch_range = range(1, epoch + 1)\n",
    "  plt.plot(epoch_range, history.history['accuracy'])\n",
    "  plt.plot(epoch_range, history.history['val_accuracy'])\n",
    "  plt.title('Model Accuracy')\n",
    "  plt.ylabel('Accuracy')\n",
    "  plt.xlabel('Epochs')\n",
    "  plt.legend('Train','Validation', loc = 'upper left')\n",
    "  \n",
    "\n"
   ]
  },
  {
   "cell_type": "code",
   "execution_count": 34,
   "id": "3e897cd2",
   "metadata": {},
   "outputs": [],
   "source": [
    "def loss_curve(history, epoch):\n",
    "    \n",
    "  # Training Vs Validation Loss\n",
    "  epoch_range = range(1, epoch + 1)\n",
    "  plt.plot(epoch_range, history.history['loss'])\n",
    "  plt.plot(epoch_range, history.history['val_loss'])\n",
    "  plt.title('Model Loss')\n",
    "  plt.ylabel('loss')\n",
    "  plt.xlabel('Epochs')\n",
    "  plt.legend('Train','Validation', loc = 'upper left')"
   ]
  },
  {
   "cell_type": "code",
   "execution_count": 37,
   "id": "e1543a18",
   "metadata": {},
   "outputs": [],
   "source": [
    "import warnings\n",
    "warnings.filterwarnings('ignore')"
   ]
  },
  {
   "cell_type": "code",
   "execution_count": 38,
   "id": "59248495",
   "metadata": {},
   "outputs": [
    {
     "data": {
      "image/png": "[encoded data removed]",
      "text/plain": [
       "<Figure size 432x288 with 1 Axes>"
      ]
     },
     "metadata": {
      "needs_background": "light"
     },
     "output_type": "display_data"
    }
   ],
   "source": [
    "learning_curve(history, epoch = 111)"
   ]
  },
  {
   "cell_type": "code",
   "execution_count": 39,
   "id": "19878000",
   "metadata": {},
   "outputs": [
    {
     "data": {
      "image/png": "[encoded data removed]",
      "text/plain": [
       "<Figure size 432x288 with 1 Axes>"
      ]
     },
     "metadata": {
      "needs_background": "light"
     },
     "output_type": "display_data"
    }
   ],
   "source": [
    "loss_curve(history, epoch = 111)"
   ]
  },
  {
   "cell_type": "code",
   "execution_count": null,
   "id": "a5564517",
   "metadata": {},
   "outputs": [],
   "source": []
  }
 ],
 "metadata": {
  "kernelspec": {
   "display_name": "Python 3",
   "language": "python",
   "name": "python3"
  },
  "language_info": {
   "codemirror_mode": {
    "name": "ipython",
    "version": 3
   },
   "file_extension": ".py",
   "mimetype": "text/x-python",
   "name": "python",
   "nbconvert_exporter": "python",
   "pygments_lexer": "ipython3",
   "version": "3.8.8"
  }
 },
 "nbformat": 4,
 "nbformat_minor": 5
}
