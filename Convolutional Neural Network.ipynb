{
 "cells": [
  {
   "cell_type": "markdown",
   "id": "40fce7c9",
   "metadata": {},
   "source": [
    "## Importing Packages"
   ]
  },
  {
   "cell_type": "code",
   "execution_count": 1,
   "id": "99881f44",
   "metadata": {},
   "outputs": [],
   "source": [
    "import tensorflow as tf\n",
    "import numpy as np\n",
    "import pandas as pd\n",
    "import matplotlib.pyplot as plt\n",
    "import seaborn as sns\n"
   ]
  },
  {
   "cell_type": "markdown",
   "id": "971179f1",
   "metadata": {},
   "source": [
    "## Data Preprocessing"
   ]
  },
  {
   "cell_type": "code",
   "execution_count": 2,
   "id": "83412c78",
   "metadata": {},
   "outputs": [],
   "source": [
    "# importing the dataset\n",
    "\n",
    "from tensorflow.keras.datasets import cifar10"
   ]
  },
  {
   "cell_type": "markdown",
   "id": "17676717",
   "metadata": {},
   "source": [
    "#### Data Description\n",
    "\n",
    "\n",
    "The CIFAR-10 data consists of 60,000 32x32 color images in 10 classes, with 6000 images per class. There are 50,000 training images and 10,000 test images in the official data. We have preserved the train/test split from the original dataset.  The provided files are:\n",
    "\n",
    "train.7z - a folder containing the training images in png format\n",
    "test.7z - a folder containing the test images in png format\n",
    "trainLabels.csv - the training labels\n",
    "\n",
    "To discourage certain forms of cheating (such as hand labeling) we have added 290,000 junk images in the test set. These images are ignored in the scoring. We have also made trivial modifications to the official 10,000 test images to prevent looking them up by file hash. These modifications should not appreciably affect the scoring. You should predict labels for all 300,000 images.\n",
    "\n",
    "The label classes in the dataset are:\n",
    "\n",
    "* airplane \n",
    "* automobile \n",
    "* bird \n",
    "* cat \n",
    "* deer \n",
    "* dog \n",
    "* frog \n",
    "* horse \n",
    "* ship \n",
    "* truck\n",
    "\n",
    "The classes are completely mutually exclusive. There is no overlap between automobiles and trucks. \"Automobile\" includes sedans, SUVs, things of that sort. \"Truck\" includes only big trucks. Neither includes pickup trucks.\n",
    "\n"
   ]
  },
  {
   "cell_type": "code",
   "execution_count": 3,
   "id": "96635557",
   "metadata": {},
   "outputs": [],
   "source": [
    "(x_train, y_train), (x_test, y_test) = cifar10.load_data()"
   ]
  },
  {
   "cell_type": "code",
   "execution_count": 4,
   "id": "e69dd86c",
   "metadata": {},
   "outputs": [
    {
     "data": {
      "text/plain": [
       "['0: airplane',\n",
       " '1: automobile',\n",
       " '2: bird',\n",
       " '3: cat',\n",
       " '4: deer',\n",
       " '5: dog',\n",
       " '6: frog',\n",
       " '7: horse',\n",
       " '8: ship',\n",
       " '9: truck']"
      ]
     },
     "execution_count": 4,
     "metadata": {},
     "output_type": "execute_result"
    }
   ],
   "source": [
    "class_names = ['0: airplane','1: automobile','2: bird','3: cat',\n",
    "               '4: deer','5: dog','6: frog','7: horse',\n",
    "               '8: ship','9: truck']\n",
    "class_names"
   ]
  },
  {
   "cell_type": "code",
   "execution_count": 5,
   "id": "b9773885",
   "metadata": {},
   "outputs": [
    {
     "name": "stdout",
     "output_type": "stream",
     "text": [
      "Max: 255  Min: 0\n"
     ]
    }
   ],
   "source": [
    "print(f'Max: {x_train.max()}  Min: {x_train.min()}')\n",
    "\n",
    "# due to image data we have the value range from 0-255, these are all of independent variable \n"
   ]
  },
  {
   "cell_type": "code",
   "execution_count": 6,
   "id": "8de47e46",
   "metadata": {},
   "outputs": [
    {
     "name": "stdout",
     "output_type": "stream",
     "text": [
      "Max: 9  Min: 0\n"
     ]
    }
   ],
   "source": [
    "# whereas for dependent variable the value ranges from 0-9 to denotes the classes of the image\n",
    "print(f\"Max: {y_train.max()}  Min: {y_train.min()}\")"
   ]
  },
  {
   "cell_type": "code",
   "execution_count": 7,
   "id": "5352cd93",
   "metadata": {},
   "outputs": [],
   "source": [
    "### Normalize the dataset\n",
    "\n",
    "x_train = x_train/255.0\n",
    "x_test = x_test/255.0\n",
    "\n",
    "# for faster and effective computation we are doing normalization of data"
   ]
  },
  {
   "cell_type": "code",
   "execution_count": 8,
   "id": "792b7bf8",
   "metadata": {},
   "outputs": [
    {
     "data": {
      "text/plain": [
       "(1.0, 0.0)"
      ]
     },
     "execution_count": 8,
     "metadata": {},
     "output_type": "execute_result"
    }
   ],
   "source": [
    "x_train.max(), x_train.min()"
   ]
  },
  {
   "cell_type": "code",
   "execution_count": 9,
   "id": "abcf7688",
   "metadata": {},
   "outputs": [
    {
     "data": {
      "text/plain": [
       "((50000, 32, 32, 3), (10000, 32, 32, 3))"
      ]
     },
     "execution_count": 9,
     "metadata": {},
     "output_type": "execute_result"
    }
   ],
   "source": [
    "x_train.shape, x_test.shape"
   ]
  },
  {
   "cell_type": "code",
   "execution_count": 10,
   "id": "90abf115",
   "metadata": {},
   "outputs": [
    {
     "data": {
      "image/png": "[encoded data removed]",
      "text/plain": [
       "<Figure size 432x288 with 1 Axes>"
      ]
     },
     "metadata": {
      "needs_background": "light"
     },
     "output_type": "display_data"
    }
   ],
   "source": [
    "plt.imshow(x_train[0]);"
   ]
  },
  {
   "cell_type": "code",
   "execution_count": 11,
   "id": "2f7713ce",
   "metadata": {},
   "outputs": [
    {
     "data": {
      "text/plain": [
       "array([6], dtype=uint8)"
      ]
     },
     "execution_count": 11,
     "metadata": {},
     "output_type": "execute_result"
    }
   ],
   "source": [
    "y_train[0]"
   ]
  },
  {
   "cell_type": "code",
   "execution_count": null,
   "id": "5cb9b52f",
   "metadata": {},
   "outputs": [],
   "source": []
  },
  {
   "cell_type": "code",
   "execution_count": null,
   "id": "c20c389a",
   "metadata": {},
   "outputs": [],
   "source": []
  },
  {
   "cell_type": "markdown",
   "id": "c7446246",
   "metadata": {},
   "source": [
    "## Building the CNN model"
   ]
  },
  {
   "cell_type": "code",
   "execution_count": 12,
   "id": "8e33479d",
   "metadata": {},
   "outputs": [],
   "source": [
    "# defining a model as odject\n",
    "\n",
    "model = tf.keras.models.Sequential()"
   ]
  },
  {
   "cell_type": "code",
   "execution_count": 13,
   "id": "b9a463d9",
   "metadata": {},
   "outputs": [],
   "source": [
    "# First convulutional Layer\n",
    "\n",
    "'''\n",
    "1) Number of filter's (kernel) = 32\n",
    "2) Kernel size = 3\n",
    "3) Padding = same\n",
    "4) Activation Function = reLU\n",
    "5) Input shape = (32, 32, 3)\n",
    "\n",
    "'''\n",
    "\n",
    "model.add(tf.keras.layers.Conv2D(filters = 32, kernel_size =3, \n",
    "                                 padding = 'same', activation = 'relu',\n",
    "                                input_shape = [32,32,3] ))"
   ]
  },
  {
   "cell_type": "code",
   "execution_count": 14,
   "id": "b7e6191a",
   "metadata": {},
   "outputs": [],
   "source": [
    "# Adding Second CNN layer and maxpool layers\n",
    "\n",
    "'''\n",
    "1) Number of filter's (kernel) = 32\n",
    "2) Kernel size = 3\n",
    "3) Padding = same\n",
    "4) Activation Function = reLU\n",
    "\n",
    "'''\n",
    "model.add(tf.keras.layers.Conv2D(filters = 32, kernel_size = 3,\n",
    "                                padding = 'same',activation = 'relu'))\n",
    "\n",
    "# MaxPool layer parameter\n",
    "\n",
    "'''\n",
    "1) pool size = 2\n",
    "2) strides = 2\n",
    "3) padding = 'valid'\n",
    "\n",
    "'''\n",
    "\n",
    "model.add(tf.keras.layers.MaxPool2D(pool_size =2, strides = 2, padding = 'valid'))"
   ]
  },
  {
   "cell_type": "code",
   "execution_count": 15,
   "id": "5790a4e4",
   "metadata": {},
   "outputs": [],
   "source": [
    "# Adding Third CNN layer\n",
    "\n",
    "'''\n",
    "1) Number of filter's (kernel) = 64\n",
    "2) Kernel size = 3\n",
    "3) Padding = same\n",
    "4) Activation Function = reLU\n",
    "\n",
    "'''\n",
    "\n",
    "model.add(tf.keras.layers.Conv2D(filters = 64, padding  = 'same',\n",
    "                                kernel_size = 3, activation = 'relu'))"
   ]
  },
  {
   "cell_type": "code",
   "execution_count": 16,
   "id": "795fc4aa",
   "metadata": {},
   "outputs": [],
   "source": [
    "# Adding Fourth CNN layer and MaxPool layer\n",
    "\n",
    "'''\n",
    "1) Number of filter's (kernel) = 64\n",
    "2) Kernel size = 3\n",
    "3) Padding = same\n",
    "4) Activation Function = reLU\n",
    "\n",
    "'''\n",
    "\n",
    "model.add(tf.keras.layers.Conv2D(filters = 64, kernel_size = 3,\n",
    "                                activation = 'relu',padding = 'same'))\n",
    "\n",
    "\n",
    "# MaxPool layer parameter\n",
    "\n",
    "'''\n",
    "1) pool size = 2\n",
    "2) strides = 2\n",
    "3) padding = 'valid'\n",
    "\n",
    "'''\n",
    "\n",
    "model.add(tf.keras.layers.MaxPool2D(pool_size = 2, strides = 2, \n",
    "                                    padding = 'valid'))"
   ]
  },
  {
   "cell_type": "code",
   "execution_count": 17,
   "id": "03d2b6c5",
   "metadata": {},
   "outputs": [],
   "source": [
    "# Adding Dropout layer -- for regularization\n",
    " \n",
    "model.add(tf.keras.layers.Dropout(0.4))"
   ]
  },
  {
   "cell_type": "code",
   "execution_count": 18,
   "id": "d973ee1b",
   "metadata": {},
   "outputs": [],
   "source": [
    "# Adding a Flattening layer\n",
    "\n",
    "model.add(tf.keras.layers.Flatten())"
   ]
  },
  {
   "cell_type": "code",
   "execution_count": 19,
   "id": "ed11cea6",
   "metadata": {},
   "outputs": [],
   "source": [
    "# Adding First Dense layer\n",
    "\n",
    "model.add(tf.keras.layers.Dense(units = 128, activation = 'relu'))"
   ]
  },
  {
   "cell_type": "code",
   "execution_count": 20,
   "id": "17338d2e",
   "metadata": {},
   "outputs": [],
   "source": [
    "# addiing second dense layer\n",
    "\n",
    "model.add(tf.keras.layers.Dense(units = 10, activation = 'softmax'))"
   ]
  },
  {
   "cell_type": "code",
   "execution_count": 21,
   "id": "9bd4c722",
   "metadata": {},
   "outputs": [
    {
     "name": "stdout",
     "output_type": "stream",
     "text": [
      "Model: \"sequential\"\n",
      "_________________________________________________________________\n",
      "Layer (type)                 Output Shape              Param #   \n",
      "=================================================================\n",
      "conv2d (Conv2D)              (None, 32, 32, 32)        896       \n",
      "_________________________________________________________________\n",
      "conv2d_1 (Conv2D)            (None, 32, 32, 32)        9248      \n",
      "_________________________________________________________________\n",
      "max_pooling2d (MaxPooling2D) (None, 16, 16, 32)        0         \n",
      "_________________________________________________________________\n",
      "conv2d_2 (Conv2D)            (None, 16, 16, 64)        18496     \n",
      "_________________________________________________________________\n",
      "conv2d_3 (Conv2D)            (None, 16, 16, 64)        36928     \n",
      "_________________________________________________________________\n",
      "max_pooling2d_1 (MaxPooling2 (None, 8, 8, 64)          0         \n",
      "_________________________________________________________________\n",
      "dropout (Dropout)            (None, 8, 8, 64)          0         \n",
      "_________________________________________________________________\n",
      "flatten (Flatten)            (None, 4096)              0         \n",
      "_________________________________________________________________\n",
      "dense (Dense)                (None, 128)               524416    \n",
      "_________________________________________________________________\n",
      "dense_1 (Dense)              (None, 10)                1290      \n",
      "=================================================================\n",
      "Total params: 591,274\n",
      "Trainable params: 591,274\n",
      "Non-trainable params: 0\n",
      "_________________________________________________________________\n"
     ]
    }
   ],
   "source": [
    "model.summary()"
   ]
  },
  {
   "cell_type": "markdown",
   "id": "aee84140",
   "metadata": {},
   "source": [
    "## Training the model"
   ]
  },
  {
   "cell_type": "code",
   "execution_count": 22,
   "id": "00f7927e",
   "metadata": {},
   "outputs": [],
   "source": [
    "model.compile(loss = 'sparse_categorical_crossentropy', optimizer = 'adam',\n",
    "             metrics = ['sparse_categorical_accuracy'])\n"
   ]
  },
  {
   "cell_type": "code",
   "execution_count": 23,
   "id": "1c995801",
   "metadata": {},
   "outputs": [
    {
     "name": "stdout",
     "output_type": "stream",
     "text": [
      "Epoch 1/5\n",
      "5000/5000 - 143s - loss: 1.3918 - sparse_categorical_accuracy: 0.4958\n",
      "Epoch 2/5\n",
      "5000/5000 - 144s - loss: 0.9778 - sparse_categorical_accuracy: 0.6529\n",
      "Epoch 3/5\n",
      "5000/5000 - 137s - loss: 0.8407 - sparse_categorical_accuracy: 0.7022\n",
      "Epoch 4/5\n",
      "5000/5000 - 144s - loss: 0.7525 - sparse_categorical_accuracy: 0.7339\n",
      "Epoch 5/5\n",
      "5000/5000 - 137s - loss: 0.6907 - sparse_categorical_accuracy: 0.7556\n"
     ]
    },
    {
     "data": {
      "text/plain": [
       "<keras.callbacks.History at 0x17acd95b3a0>"
      ]
     },
     "execution_count": 23,
     "metadata": {},
     "output_type": "execute_result"
    }
   ],
   "source": [
    "model.fit(x_train, y_train,batch_size = 10, epochs = 5 , verbose = 2)"
   ]
  },
  {
   "cell_type": "markdown",
   "id": "7a8dcdba",
   "metadata": {},
   "source": [
    "## Model Evaluation and Prediction\n",
    "\n"
   ]
  },
  {
   "cell_type": "code",
   "execution_count": 26,
   "id": "87901655",
   "metadata": {},
   "outputs": [
    {
     "name": "stdout",
     "output_type": "stream",
     "text": [
      "313/313 [==============================] - 5s 16ms/step - loss: 0.7728 - sparse_categorical_accuracy: 0.7419\n"
     ]
    }
   ],
   "source": [
    "# evaluate of model1\n",
    "\n",
    "test_loss, test_accuarcy = model.evaluate(x_test, y_test)"
   ]
  },
  {
   "cell_type": "code",
   "execution_count": 30,
   "id": "ed484501",
   "metadata": {},
   "outputs": [
    {
     "name": "stdout",
     "output_type": "stream",
     "text": [
      "Accuracy:  0.7419000267982483\n"
     ]
    }
   ],
   "source": [
    "print('Accuracy: ',test_accuarcy)"
   ]
  },
  {
   "cell_type": "code",
   "execution_count": 31,
   "id": "0f47ebd8",
   "metadata": {},
   "outputs": [],
   "source": [
    "# predictions\n",
    "\n",
    "y_pred = model.predict(x_test)\n",
    "y_pred = np.round(y_pred).astype(int)\n"
   ]
  },
  {
   "cell_type": "code",
   "execution_count": 36,
   "id": "8c545940",
   "metadata": {},
   "outputs": [
    {
     "data": {
      "text/plain": [
       "(array([0, 0, 0, 0, 0, 0, 0, 0, 0, 1]), array([9], dtype=uint8))"
      ]
     },
     "execution_count": 36,
     "metadata": {},
     "output_type": "execute_result"
    }
   ],
   "source": [
    "# validation of result\n",
    "'''\n",
    "y_pred - predicted value\n",
    "y_test - actual value\n",
    "'''\n",
    "\n",
    "y_pred [11], y_test[11]"
   ]
  },
  {
   "cell_type": "code",
   "execution_count": 37,
   "id": "4f6e06fc",
   "metadata": {},
   "outputs": [
    {
     "data": {
      "text/plain": [
       "(array([0, 0, 0, 0, 0, 0, 0, 0, 0, 0]), array([3], dtype=uint8))"
      ]
     },
     "execution_count": 37,
     "metadata": {},
     "output_type": "execute_result"
    }
   ],
   "source": [
    "y_pred[121], y_test[121]"
   ]
  },
  {
   "cell_type": "code",
   "execution_count": 38,
   "id": "0ed3390a",
   "metadata": {},
   "outputs": [
    {
     "data": {
      "text/plain": [
       "(array([0, 0, 0, 0, 0, 0, 0, 0, 0, 0]), array([4], dtype=uint8))"
      ]
     },
     "execution_count": 38,
     "metadata": {},
     "output_type": "execute_result"
    }
   ],
   "source": [
    "y_pred[1765], y_test[1765]"
   ]
  },
  {
   "cell_type": "code",
   "execution_count": null,
   "id": "ed24e6d9",
   "metadata": {},
   "outputs": [],
   "source": []
  }
 ],
 "metadata": {
  "kernelspec": {
   "display_name": "Python 3",
   "language": "python",
   "name": "python3"
  },
  "language_info": {
   "codemirror_mode": {
    "name": "ipython",
    "version": 3
   },
   "file_extension": ".py",
   "mimetype": "text/x-python",
   "name": "python",
   "nbconvert_exporter": "python",
   "pygments_lexer": "ipython3",
   "version": "3.8.8"
  }
 },
 "nbformat": 4,
 "nbformat_minor": 5
}
